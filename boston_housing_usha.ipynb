{
 "cells": [
  {
   "cell_type": "markdown",
   "metadata": {},
   "source": [
    "# Machine Learning Engineer Nanodegree\n",
    "## Model Evaluation & Validation\n",
    "## Project: Predicting Boston Housing Prices\n",
    "\n",
    "Welcome to the first project of the Machine Learning Engineer Nanodegree! In this notebook, some template code has already been provided for you, and you will need to implement additional functionality to successfully complete this project. You will not need to modify the included code beyond what is requested. Sections that begin with **'Implementation'** in the header indicate that the following block of code will require additional functionality which you must provide. Instructions will be provided for each section and the specifics of the implementation are marked in the code block with a 'TODO' statement. Please be sure to read the instructions carefully!\n",
    "\n",
    "In addition to implementing code, there will be questions that you must answer which relate to the project and your implementation. Each section where you will answer a question is preceded by a **'Question X'** header. Carefully read each question and provide thorough answers in the following text boxes that begin with **'Answer:'**. Your project submission will be evaluated based on your answers to each of the questions and the implementation you provide.  \n",
    "\n",
    ">**Note:** Code and Markdown cells can be executed using the **Shift + Enter** keyboard shortcut. In addition, Markdown cells can be edited by typically double-clicking the cell to enter edit mode."
   ]
  },
  {
   "cell_type": "markdown",
   "metadata": {},
   "source": [
    "## Getting Started\n",
    "In this project, you will evaluate the performance and predictive power of a model that has been trained and tested on data collected from homes in suburbs of Boston, Massachusetts. A model trained on this data that is seen as a *good fit* could then be used to make certain predictions about a home — in particular, its monetary value. This model would prove to be invaluable for someone like a real estate agent who could make use of such information on a daily basis.\n",
    "\n",
    "The dataset for this project originates from the [UCI Machine Learning Repository](https://archive.ics.uci.edu/ml/datasets/Housing). The Boston housing data was collected in 1978 and each of the 506 entries represent aggregated data about 14 features for homes from various suburbs in Boston, Massachusetts. For the purposes of this project, the following preprocessing steps have been made to the dataset:\n",
    "- 16 data points have an `'MEDV'` value of 50.0. These data points likely contain **missing or censored values** and have been removed.\n",
    "- 1 data point has an `'RM'` value of 8.78. This data point can be considered an **outlier** and has been removed.\n",
    "- The features `'RM'`, `'LSTAT'`, `'PTRATIO'`, and `'MEDV'` are essential. The remaining **non-relevant features** have been excluded.\n",
    "- The feature `'MEDV'` has been **multiplicatively scaled** to account for 35 years of market inflation.\n",
    "\n",
    "Run the code cell below to load the Boston housing dataset, along with a few of the necessary Python libraries required for this project. You will know the dataset loaded successfully if the size of the dataset is reported."
   ]
  },
  {
   "cell_type": "code",
   "execution_count": 1,
   "metadata": {
    "collapsed": false
   },
   "outputs": [
    {
     "name": "stdout",
     "output_type": "stream",
     "text": [
      "Boston housing dataset has 489 data points with 4 variables each.\n"
     ]
    }
   ],
   "source": [
    "# Import libraries necessary for this project\n",
    "import numpy as np\n",
    "import pandas as pd\n",
    "from sklearn.cross_validation import ShuffleSplit\n",
    "\n",
    "# Import supplementary visualizations code visuals.py\n",
    "import visuals as vs\n",
    "\n",
    "# Pretty display for notebooks\n",
    "%matplotlib inline\n",
    "\n",
    "# Load the Boston housing dataset\n",
    "data = pd.read_csv('housing.csv')\n",
    "prices = data['MEDV']\n",
    "features = data.drop('MEDV', axis = 1)\n",
    "    \n",
    "# Success\n",
    "print(\"Boston housing dataset has {} data points with {} variables each.\".format(*data.shape))"
   ]
  },
  {
   "cell_type": "markdown",
   "metadata": {},
   "source": [
    "## Data Exploration\n",
    "In this first section of this project, you will make a cursory investigation about the Boston housing data and provide your observations. Familiarizing yourself with the data through an explorative process is a fundamental practice to help you better understand and justify your results.\n",
    "\n",
    "Since the main goal of this project is to construct a working model which has the capability of predicting the value of houses, we will need to separate the dataset into **features** and the **target variable**. The **features**, `'RM'`, `'LSTAT'`, and `'PTRATIO'`, give us quantitative information about each data point. The **target variable**, `'MEDV'`, will be the variable we seek to predict. These are stored in `features` and `prices`, respectively."
   ]
  },
  {
   "cell_type": "markdown",
   "metadata": {},
   "source": [
    "### Implementation: Calculate Statistics\n",
    "For your very first coding implementation, you will calculate descriptive statistics about the Boston housing prices. Since `numpy` has already been imported for you, use this library to perform the necessary calculations. These statistics will be extremely important later on to analyze various prediction results from the constructed model.\n",
    "\n",
    "In the code cell below, you will need to implement the following:\n",
    "- Calculate the minimum, maximum, mean, median, and standard deviation of `'MEDV'`, which is stored in `prices`.\n",
    "  - Store each calculation in their respective variable."
   ]
  },
  {
   "cell_type": "code",
   "execution_count": 2,
   "metadata": {
    "collapsed": false
   },
   "outputs": [
    {
     "name": "stdout",
     "output_type": "stream",
     "text": [
      "Statistics for Boston housing dataset:\n",
      "Minimum price: $105000.0\n",
      "Maximum price: $1024800.0\n",
      "Mean price: $454342.9447852761\n",
      "Median price $438900.0\n",
      "Standard deviation of prices: $165171.13154429477\n"
     ]
    }
   ],
   "source": [
    "# TODO: Minimum price of the data\n",
    "minimum_price = np.min(prices)\n",
    "\n",
    "# TODO: Maximum price of the data\n",
    "maximum_price = np.max(prices)\n",
    "\n",
    "# TODO: Mean price of the data\n",
    "mean_price = np.mean(prices)\n",
    "\n",
    "# TODO: Median price of the data\n",
    "median_price = np.median(prices)\n",
    "\n",
    "# TODO: Standard deviation of prices of the data\n",
    "std_price = np.std(prices)\n",
    "\n",
    "# Show the calculated statistics\n",
    "print(\"Statistics for Boston housing dataset:\\n\")\n",
    "print(\"Minimum price: ${}\".format(minimum_price)) \n",
    "print(\"Maximum price: ${}\".format(maximum_price))\n",
    "print(\"Mean price: ${}\".format(mean_price))\n",
    "print(\"Median price ${}\".format(median_price))\n",
    "print(\"Standard deviation of prices: ${}\".format(std_price))"
   ]
  },
  {
   "cell_type": "markdown",
   "metadata": {},
   "source": [
    "### Question 1 - Feature Observation\n",
    "As a reminder, we are using three features from the Boston housing dataset: `'RM'`, `'LSTAT'`, and `'PTRATIO'`. For each data point (neighborhood):\n",
    "- `'RM'` is the average number of rooms among homes in the neighborhood.\n",
    "- `'LSTAT'` is the percentage of homeowners in the neighborhood considered \"lower class\" (working poor).\n",
    "- `'PTRATIO'` is the ratio of students to teachers in primary and secondary schools in the neighborhood.\n",
    "\n",
    "\n",
    "** Using your intuition, for each of the three features above, do you think that an increase in the value of that feature would lead to an **increase** in the value of `'MEDV'` or a **decrease** in the value of `'MEDV'`? Justify your answer for each.**\n",
    "\n",
    "**Hint:** This problem can phrased using examples like below.  \n",
    "* Would you expect a home that has an `'RM'` value(number of rooms) of 6 be worth more or less than a home that has an `'RM'` value of 7?\n",
    "* Would you expect a neighborhood that has an `'LSTAT'` value(percent of lower class workers) of 15 have home prices be worth more or less than a neighborhood that has an `'LSTAT'` value of 20?\n",
    "* Would you expect a neighborhood that has an `'PTRATIO'` value(ratio of students to teachers) of 10 have home prices be worth more or less than a neighborhood that has an `'PTRATIO'` value of 15?"
   ]
  },
  {
   "cell_type": "markdown",
   "metadata": {},
   "source": [
    "**Answer: **\n",
    "\n",
    "Based on the plots we observe that:\n",
    "\n",
    "With increase in RM, the home value increases\n",
    "\n",
    "Home with neighborhood that has a higher LSTAT value costs less than the home with lower LSTAT value\n",
    "\n",
    "Trend shows that house value decreases with increase in PTRatio.",     
   ]
  },
  {
   "cell_type": "markdown",
   "metadata": {},
   "source": [
    "----\n",
    "\n",
    "## Developing a Model\n",
    "In this second section of the project, you will develop the tools and techniques necessary for a model to make a prediction. Being able to make accurate evaluations of each model's performance through the use of these tools and techniques helps to greatly reinforce the confidence in your predictions."
   ]
  },
  {
   "cell_type": "markdown",
   "metadata": {},
   "source": [
    "### Implementation: Define a Performance Metric\n",
    "It is difficult to measure the quality of a given model without quantifying its performance over training and testing. This is typically done using some type of performance metric, whether it is through calculating some type of error, the goodness of fit, or some other useful measurement. For this project, you will be calculating the [*coefficient of determination*](http://stattrek.com/statistics/dictionary.aspx?definition=coefficient_of_determination), R<sup>2</sup>, to quantify your model's performance. The coefficient of determination for a model is a useful statistic in regression analysis, as it often describes how \"good\" that model is at making predictions. \n",
    "\n",
    "The values for R<sup>2</sup> range from 0 to 1, which captures the percentage of squared correlation between the predicted and actual values of the **target variable**. A model with an R<sup>2</sup> of 0 is no better than a model that always predicts the *mean* of the target variable, whereas a model with an R<sup>2</sup> of 1 perfectly predicts the target variable. Any value between 0 and 1 indicates what percentage of the target variable, using this model, can be explained by the **features**. _A model can be given a negative R<sup>2</sup> as well, which indicates that the model is **arbitrarily worse** than one that always predicts the mean of the target variable._\n",
    "\n",
    "For the `performance_metric` function in the code cell below, you will need to implement the following:\n",
    "- Use `r2_score` from `sklearn.metrics` to perform a performance calculation between `y_true` and `y_predict`.\n",
    "- Assign the performance score to the `score` variable."
   ]
  },
  {
   "cell_type": "code",
   "execution_count": 3,
   "metadata": {
    "collapsed": false
   },
   "outputs": [],
   "source": [
    "# TODO: Import 'r2_score'\n",
    "from sklearn.metrics import r2_score\n",
    "def performance_metric(y_true, y_predict):\n",
    "    \"\"\" Calculates and returns the performance score between \n",
    "        true and predicted values based on the metric chosen. \"\"\"\n",
    "    \n",
    "    # TODO: Calculate the performance score between 'y_true' and 'y_predict'\n",
    "    score = r2_score(y_true, y_predict)\n",
    "    \n",
    "    # Return the score\n",
    "    return score"
   ]
  },
  {
   "cell_type": "markdown",
   "metadata": {},
   "source": [
    "### Question 2 - Goodness of Fit\n",
    "Assume that a dataset contains five data points and a model made the following predictions for the target variable:\n",
    "\n",
    "| True Value | Prediction |\n",
    "| :-------------: | :--------: |\n",
    "| 3.0 | 2.5 |\n",
    "| -0.5 | 0.0 |\n",
    "| 2.0 | 2.1 |\n",
    "| 7.0 | 7.8 |\n",
    "| 4.2 | 5.3 |\n",
    "\n",
    "Run the code cell below to use the `performance_metric` function and calculate this model's coefficient of determination."
   ]
  },
  {
   "cell_type": "code",
   "execution_count": 4,
   "metadata": {
    "collapsed": true
   },
   "outputs": [
    {
     "name": "stdout",
     "output_type": "stream",
     "text": [
      "Model has a coefficient of determination, R^2, of 0.923.\n"
     ]
    }
   ],
   "source": [
    "# Calculate the performance of this model\n",
    "score = performance_metric([3, -0.5, 2, 7, 4.2], [2.5, 0.0, 2.1, 7.8, 5.3])\n",
    "print(\"Model has a coefficient of determination, R^2, of {:.3f}.\".format(score))"
   ]
  },
  {
   "cell_type": "markdown",
   "metadata": {},
   "source": [
    "* Would you consider this model to have successfully captured the variation of the target variable? \n",
    "* Why or why not?\n",
    "\n",
    "** Hint: **  The R2 score is the proportion of the variance in the dependent variable that is predictable from the independent variable. In other words:\n",
    "* R2 score of 0 means that the dependent variable cannot be predicted from the independent variable.\n",
    "* R2 score of 1 means the dependent variable can be predicted from the independent variable.\n",
    "* R2 score between 0 and 1 indicates the extent to which the dependent variable is predictable. An \n",
    "* R2 score of 0.40 means that 40 percent of the variance in Y is predictable from X."
   ]
  },
  {
   "cell_type": "markdown",
   "metadata": {},
   "source": [
    "**Answer:**\n",
    "\n",
    "Yes, here R^2 = 0.923. Since R^2 =1 represents dependent variable can be predicted from independent variable.\n",
    "R^2 = 0.923 indicates dependent variable can be predicted from independent variable with 92.3% accuracy."
   ]
  },
  {
   "cell_type": "markdown",
   "metadata": {},
   "source": [
    "### Implementation: Shuffle and Split Data\n",
    "Your next implementation requires that you take the Boston housing dataset and split the data into training and testing subsets. Typically, the data is also shuffled into a random order when creating the training and testing subsets to remove any bias in the ordering of the dataset.\n",
    "\n",
    "For the code cell below, you will need to implement the following:\n",
    "- Use `train_test_split` from `sklearn.cross_validation` to shuffle and split the `features` and `prices` data into training and testing sets.\n",
    "  - Split the data into 80% training and 20% testing.\n",
    "  - Set the `random_state` for `train_test_split` to a value of your choice. This ensures results are consistent.\n",
    "- Assign the train and testing splits to `X_train`, `X_test`, `y_train`, and `y_test`."
   ]
  },
  {
   "cell_type": "code",
   "execution_count": 5,
   "metadata": {
    "collapsed": false
   },
   "outputs": [
    {
     "name": "stdout",
     "output_type": "stream",
     "text": [
      "Training and testing split was successful.\n"
     ]
    }
   ],
   "source": [
    "# TODO: Import 'train_test_split'\n",
    "from sklearn.cross_validation import train_test_split\n",
    "# TODO: Shuffle and split the data into training and testing subsets\n",
    "X_train, X_test, y_train, y_test = train_test_split(features, prices, test_size=0.2, random_state=20)\n",
    "\n",
    "# Success\n",
    "print(\"Training and testing split was successful.\")"
   ]
  },
  {
   "cell_type": "markdown",
   "metadata": {},
   "source": [
    "### Question 3 - Training and Testing\n",
    "\n",
    "* What is the benefit to splitting a dataset into some ratio of training and testing subsets for a learning algorithm?\n",
    "\n",
    "**Hint:** Think about how overfitting or underfitting is contingent upon how splits on data is done."
   ]
  },
  {
   "cell_type": "markdown",
   "metadata": {},
   "source": [
    "**Answer: **\n",
    "Underfitting is bad on the training and testing sets whereas Overfitting is perfectly good on training and bad on testing set. Splitting the data into training and testing subsets and using them for data modelling helps avoid overfitting on the model.\n"
   ]
  },
  {
   "cell_type": "markdown",
   "metadata": {},
   "source": [
    "----\n",
    "\n",
    "## Analyzing Model Performance\n",
    "In this third section of the project, you'll take a look at several models' learning and testing performances on various subsets of training data. Additionally, you'll investigate one particular algorithm with an increasing `'max_depth'` parameter on the full training set to observe how model complexity affects performance. Graphing your model's performance based on varying criteria can be beneficial in the analysis process, such as visualizing behavior that may not have been apparent from the results alone."
   ]
  },
  {
   "cell_type": "markdown",
   "metadata": {},
   "source": [
    "### Learning Curves\n",
    "The following code cell produces four graphs for a decision tree model with different maximum depths. Each graph visualizes the learning curves of the model for both training and testing as the size of the training set is increased. Note that the shaded region of a learning curve denotes the uncertainty of that curve (measured as the standard deviation). The model is scored on both the training and testing sets using R<sup>2</sup>, the coefficient of determination.  \n",
    "\n",
    "Run the code cell below and use these graphs to answer the following question."
   ]
  },
  {
   "cell_type": "code",
   "execution_count": 6,
   "metadata": {
    "collapsed": false,
    "scrolled": false
   },
   "outputs": [
   " #{\n"
   "  #data: { \n"
   "  #image/png:\n"
   ],
   "source": [
    "# Produce learning curves for varying training set sizes and maximum depths\n",
    "vs.ModelLearning(features, prices)"
   ]
  },
  {
   "cell_type": "markdown",
   "metadata": {},
   "source": [
    "### Question 4 - Learning the Data\n",
    "* Choose one of the graphs above and state the maximum depth for the model. \n",
    "* What happens to the score of the training curve as more training points are added? What about the testing curve? \n",
    "* Would having more training points benefit the model? \n",
    "\n",
    "**Hint:** Are the learning curves converging to particular scores? Generally speaking, the more data you have, the better. But if your training and testing curves are converging with a score above your benchmark threshold, would this be necessary?\n",
    "Think about the pros and cons of adding more training points based on if the training and testing curves are converging."
   ]
  },
  {
   "cell_type": "markdown",
   "metadata": {},
   "source": [
    "**Answer: **\n"
    "With max_depth=3 curve, as more taining points are added the traning and validation curves would almost converge but actually never converge. Having more training points would benefit the model in calculating the accuracy. But once the benchmark threshold is reached, the difference in variance/accuracy by adding more training points would be very negligible. \n"
   ]
  },
  {
   "cell_type": "markdown",
   "metadata": {},
   "source": [
    "### Complexity Curves\n",
    "The following code cell produces a graph for a decision tree model that has been trained and validated on the training data using different maximum depths. The graph produces two complexity curves — one for training and one for validation. Similar to the **learning curves**, the shaded regions of both the complexity curves denote the uncertainty in those curves, and the model is scored on both the training and validation sets using the `performance_metric` function.  \n",
    "\n",
    "** Run the code cell below and use this graph to answer the following two questions Q5 and Q6. **"
   ]
  },
  {
   "cell_type": "code",
   "execution_count": 7,
   "metadata": {
    "collapsed": false
    },
   "outputs": [
    { 
    "data": {
     "image/png": 
"iVBORw0KGgoAAAANSUhEUgAAAb0AAAFNCAYAAACUvLFdAAAACXBIWXMAAAsSAAALEgHS3X78AAAAO3pUWHRTb2Z0d2FyZQAACJnLTSwpyMkvyclMUihLLSrOzM9TMNIz1DPSUcgoKSmw0tfPhSvQyy9K1wcApwMQ8Tj1nCgAACAASURBVHic7J13fFRV+v8/d/pMpmUmvZNQQhMLVZqKuoqC8NuvCAqICoiyoCK6IKyLikgRXRVQAWURsOx+LZQVFF1RsICs+l2aoSWkQnoyvdx7fn8c7p2ZJJA6SUjOG+7r9nPPzL2Zz33OeZ7ncIQQAgaDwWAwOgGytq4Ag8FgMBitBRM9BoPBYHQamOgxGAwGo9PARI/BYDAYnQYmegwGg8HoNDDRYzAYDEangYleB+H222/H5s2b6z1Or9fj7NmzrVAjRmdk48aNuOGGG5pdzgsvvIBZs2Y1v0Jh4Pjx4+jXrx8MBgPWrVvX1tVhNBImeq1IWloatFotDAYDzGYzrr/+erz11lsQBKHZZe/evRv3339/vcfZ7Xakp6c3+3rB6PV6aZLJZNBqtdL6tm3bWvRadZGUlCRdMy4uDg899BAcDkfYr9ueKCgowAMPPIC4uDgYjUb07NkTzz33HFwuV1tXrUn85S9/wVtvvQUAOH36NDiOa3JZGzduhFwuh16vh9FoxDXXXIPPP/+8yeWtWLECt956K2w2Gx599NEml8NoG5jotTI7d+6EzWbDuXPnsGDBAqxYsQIPPfRQW1erWdjtdmlKSUnBzp07pfX77ruv1vF+v7/F67B7927Y7Xb88ssvOHjwIFauXNni1wAAnufDUm5Dqeu7Ky0txZAhQ+D3+3Hw4EFUV1djz549KCkpYVb9RYYPHw673Y6KigpMnToVd999N6qqqhpVhvjdnzt3Dr17925SPcLx7DMaBxO9NsJkMmHs2LH46KOPsHnzZhw9ehQA4PF4MH/+fKSkpCA2NhazZs0KeVvfvn07rr76ahiNRmRkZGDPnj0AgBtuuAEbN24EQN+MR44cCZPJhKioKNxzzz3S+RzH4fTp0wCAqqoqTJ06FdHR0UhNTcXSpUslq/Pvf/87hg0bhvnz5yMyMhJdunTB7t27m/RZFy9ejHvuuQeTJk2CwWDA1q1bIQgCli1bhoyMDERFRWHixImoqKiQzvn+++8xePBgmM1mXH311fjuu+8adK2EhATceuut+O2336Rtbrcb8+bNQ3JyMmJjY/Hoo4/C7XZL+1966SXExcUhMTERGzZsAMdxyMnJAQBMnjwZs2fPxm233YaIiAjs37//suUVFxdj9OjRMJvNsFgsGDFihHSdZcuWISEhAUajEZmZmdi3b59Uv7lz5yI+Ph6JiYmYN28evF4vAOCrr75CWloali1bhri4OMyYMaPWZ3755ZdhsVjw3nvvITU1FQCQmpqKNWvWSD/OBw4cQP/+/WEymTBw4EAcPHhQOn/YsGF49tlnMXjwYERERGDcuHEoKyvDpEmTYDQaMWjQIOTm5gKgP9ocx+GNN95Aly5dEBUVhQULFlyyteL48eO4+eabYbFYkJmZiY8//hgAfc779u2LN998Uyp30KBBWLZsGQD6zEybNg0ApO9QbD3Yv38/zGYzTpw4IV2nqKgIOp0OZWVldT8YF5HL5XjwwQfhdDqRnZ0NANixYwf69esHs9mMYcOGSX+LAG1FWLVqFfr27QudTocRI0Zg//79mDVrltRVUFlZicmTJyM6OhppaWl46aWXICa62rhxI0aMGIG5c+fCYrFg6dKl2LhxI0aOHIm5c+fCbDaja9euOHjwIN555x3pmdq6datUhx07duDqq6+GwWBASkoKXnjhBWmfaAW/9957SEpKQnR0NJYvXy7t9/v9eOGFF5CRkQGj0Yj+/fujsLDwsvemw0MYrUZqairZu3dvre3Jyclk3bp1hBBCHnvsMTJmzBhSVlZGqquryZ133kkWLFhACCHk4MGDxGg0ki+//JLwPE/y8/PJiRMnCCGEjBw5kmzYsIEQQsjEiRPJ0qVLCc/zxOVykf3790vXAkBOnTpFCCFkypQpZOzYsaS6uppkZ2eTbt26kY0bNxJCCNm0aRNRKBRk/fr1xO/3k3Xr1pH4+HgiCEKjP+OiRYuIUqkkO3bsIDzPE6fTSVatWkWuv/56kp+fT1wuF3nwwQfJ5MmTCSGE5ObmEovFQvbs2UN4nie7d+8mVquVlJaW1nnNxMRE8s0330jn9uzZk8ybN0/aP3v2bDJu3DhSXl5OqqqqyO23304WL15MCCFk586dJD4+nhw/fpzY7XYyceJEAoBkZ2cTQgi57777iNlsJj/88APheZ643e7Lljd//nwye/Zs4vV6icfjIfv27SOEEHL06FGSkpJCioqKCCGEnD17lpw5c4YQQsjChQvJkCFDSHFxMblw4QIZOHAgWbJkCSGEkL179xK5XE4WLlxIPB4PcTqdtT7/ddddR55//vlL3pOSkhJiNBrJ+++/T3w+H9myZQuxWCykvLycEELI0KFDSbdu3ciZM2dIeXk56dGjB+nevTv597//TXw+H5k0aRKZPn06IYQQn89HAJBRo0aR8vJykp2dTTIyMsimTZsIIYRs2LCBjBw5khBCSHV1NUlISCCbN28mPp+PHD58mFgsFvL7778TQgj57bffiNlsJllZWWTJkiXk+uuvJ36/X3pm7r//fkIIIadOnSI1f6pmzJhBnnnmGWn95ZdfJuPGjavz8wfXyefzkdWrVxODwUCqq6vJoUOHSExMDDl06BDx+/3knXfeIenp6cTj8RBC6LN17bXXkry8POm7Hzp0qPR5CSFk0qRJZPz48aS6upqcOXOGZGRkkL///e/SteVyOVm3bh3x+/3E6XRK29577z3i9/vJn//8Z5KSkkLmzJlD3G43+de//kWMRiNxOByEEEK+/vprcuTIEcLzPPntt9+I1WolO3fuDPluHn74YeJyuch//vMfolKpyMmTJwkhhCxbtoxcddVV5OTJk4TnefLrr79Kvy2XuzcdGSZ6rcilRG/QoEFk6dKlRBAEotPpyOnTp6V9P/zwA0lLSyOEEDJz5kzy+OOP11l2sOhNmTKFzJgxg+Tl5dU6ThQ9v99PVCoVOXbsmLTvrbfekn4cNm3aRDIyMqR9DoeDAJB+tBvzGRctWkRuvPHGkG1du3aVBIEQKlYqlYrwPE+WLl1Kpk2bFnL8TTfdRLZu3VrnNRMTE0lERATR6/UEALnllltIZWUlIYQQnueJWq0mOTk50vHfffcd6dq1KyGEfleiYBFCyIkTJ2qJ3gMPPCDtr6+8hQsXkvHjx4fcQ0II+f3330lMTAz56quviM/nC9mXkpJCvvjiC2l9165d0ne/d+9eolarpR/hukhLS5PufV28++67ZMiQISHb+vfvT7Zs2UIIoT/iy5cvl/bNnTuX3HnnndL6J598Qq677jpCSED0gu/xa6+9Rm699VZCSKjAbN26ldxwww0h133wwQfJ0qVLpfXly5eTzMxMEhkZKb0EEFK/6B04cICkpaVJL2H9+vUjH3/8cZ2fXxQZk8lErFYrGTJkCPn6668JIYRMnz5desEQSU9PJwcOHCCE0Gdr8+bNIfuDRc/r9RK5XE6ysrKk/WvWrCGjRo2Srt2lS5da9cnMzJTWf/nlFwIg5KXOaDSSI0eO1Pl5Zs+eTebPnx/y3QT/XV5zzTXkn//8p/RZdu3aVauMhtybjgpr3mwHFBQUwGKxoKSkBE6nE9dddx3MZjPMZjNuu+02lJSUAADy8vKQkZFRb3krV64EIQQDBw5E79698e6779Y6prS0FF6vV2oOA2iTWEFBgbQeFxcnLet0OgC0/64pJCcnh6zn5uZizJgx0ufs27cvOI5DcXExzp07hw8++EDaZzab8dNPP0nNMnWxa9cu2Gw2fP311zh27BjKy8sBAOfPn4fH45Gar8xmM+68804UFxcDAAoLC0PqVrOeNbfVV96CBQuQmpqKUaNGISMjA6tWrQIA9OjRA6tXr8azzz6LmJgYTJo0CefPnwdAm+Yudx9iY2OhUqku+dmtViuKioouub+wsDCk/EtdQ0Sr1dZar3nfg7+T1NTUOu/NuXPn8P3334fcx48++iikrtOmTcOZM2cwZsyYRjlYDR06FAqFAgcOHMDRo0eRm5uLO+6445LHDxs2DJWVlSgtLcUPP/yAm266SarjihUrQupYVFQU8t3U9UyIFBcXg+f5y96/us6v+f3K5XJYrdaQbeJ3/uOPP+KGG25AdHQ0TCYTNm7ciNLS0pDyav6tiude6jejIfemo8JEr435+eefUVBQgGHDhiEqKgparRbHjh1DZWUlKisrUVVVJT3AycnJOHPmTL1lxsXFYcOGDSgsLMTbb7+NRx99VOrHE4mKioJSqcS5c+ekbbm5uUhMTGzZD3iRmt53SUlJ2Lt3r/Q5Kysr4Xa7ERcXh+TkZDzwwAMh+xwOB5566ql6r3PTTTdh8uTJ0rGiYGRlZYV8p6ITQ3x8PPLz86Xz8/LyLlv3+sozGo149dVXkZOTg88++wwrVqzAt99+C4D2D37//ffIzs4Gz/NYuHChVIfL3Yf6PBdvvvlmfPrpp1I/Uk0SEhJCyq/rGo0l+HvKzc1FQkJCrWOSk5MxatSokPtot9uxZs0a6ZhHHnkE48aNw65du/DTTz/Vea1Lff6pU6di69at2LJlCyZMmAC1Wt3oz5GcnIy//vWvIXV0Op2YMGFCvdcHgJiYGMjl8mbdv/qYOHEi/vjHPyIvLw9VVVWYPn36Je91TS71m9GQe9NRYaLXRlRXV2PXrl2YOHEiJk+ejL59+0Imk2HGjBl44oknJMuhoKAAX3zxBQDgoYcewqZNm/D1119DEAQUFBTg999/r1X2P//5T+mHPDIyEhzHQS6Xhxwjl8sxYcIELFq0SPImfeWVVzB58uQwf3LKrFmz8Mwzz0gOEsXFxdixYwcAYMqUKfj000+xd+9e8DwPt9uNb7755rKWXjBPPPEEPv/8cxw9ehRyuRzTp0/H448/jpKSEhBCkJ+fjy+//BIAMGHCBLzzzjvIysqC0+kMcRKoi/rK27lzJ86cOQNCCEwmE+RyOeRyOU6cOIFvvvkGHo8HWq1WersHgEmTJuH5559HaWkpSkpK8MILLzTqPsyfPx+lpaV44IEHpO8zPz8fjz/+OI4dO4Y777wTx44dw0cffQS/34/3338fp0+fxujRoxt8jZqsXLkSlZWVyM3Nxeuvvx7iLCUyduxYHDt2DO+//z58Ph98Ph8OHTqErKwsAMCmTZtw9OhRbNq0Ca+++iqmTJlSZ6hJTEwMOI6r5Yk6ZcoU/O///i/ef/99TJ06tUmfY+bMmVi7di1+/vlnEEJgt9uxc+fOBoe8KJVK/M///A+eeeYZ2O12ZGdn49VXX23RvyObzQaLxQKNRoOffvoJH374YYPPnT59OhYvXiw9k7/99hvKy8vrvTcdGSZ6rcyYMWNgMBiQnJyMF198EfPmzcOmTZuk/StWrEDXrl0xePBgGI1G3HzzzdKDOHDgQGzatAlPPPEETCYTRo4cWesNHqDW46BBg6DX6zF27Fi89tpr6NKlS63j3njjDURERCA9PR3Dhg3DvffeiwcffDB8Hz6IefPm4bbbbsOoUaNgMBhw/fXX4+effwZA4xk//fRTvPDCC4iOjkZKSgpWr17d4HjGuLg43HfffZKArV69GqmpqRg4cCBMJhNuvfVWnDp1CgC9H4888ghGjBiBbt26YejQoQBwWavhcuVlZWXhpptugl6vx9ChQ/HYY49h2LBh8Hg8ePrppxEVFYW4uDhUVFRg6dKlAIC//vWv6NevH/r27YurrroKgwYNkqzAhhAVFYUff/wRADBgwAAYDAbccsstsFqtSE9PR3R0NHbs2IEVK1bAarXi1Vdfxa5du2CxWBp8jZqMGTMGV199Na655hqMHz9e8rQMxmQy4YsvvsDWrVsRHx+PuLg4LFy4EB6PBzk5OXjyySfx3nvvISIiAlOnTkW/fv0wf/78WuUYDAYsXLgQgwYNgtlsxuHDhwHQ56Rv375QqVS4/vrrm/Q5Bg0ahDfffBOPPPIIIiMj0b179xDPyYawbt06qFQqdOnSBSNHjsT999/fZBGuizfffBMLFy6EwWDAsmXLQqzQ+njqqacwbtw4jBo1CkajETNnzoTb7b7svenocKShdjKD0Qk4cuQIrr32Wng8Hshk7J2wJn6/H0qlEtnZ2UhLS2vr6mDq1KlIT0/HkiVL2roqjCsE9lfN6PR8+umn8Hq9KCsrw4IFC3DXXXcxwbsCOHv2LLZv395qrROMjgH7y2Z0etauXYuoqCh069YNGo0Ga9eubesqMeph4cKF6NevH5555hmkpKS0dXUYVxCseZPBYDAYnQZm6TEYDAaj08BEj8FgMBidBkVbV6CxREVFtQuvMQaDwWC0H3JycmplqqmLK0700tLSpDgdBoPBYDAAoH///g06jjVvMhgMBqPTwESPwWAwGJ0GJnoMBoPB6DQw0WMwGAxGp4GJHoPBYDA6DUz0GAwGg9FpYKLHYDAYjE5D2ETvwQcfRExMDPr06VPnfkII5s6di65du+Kqq67CL7/8Eq6qMBgMBoMBIIyiN23aNOzZs+eS+3fv3o1Tp07h1KlTWL9+PR555JFwVYXBYDAYDABhFL0RI0ZcdmTm7du3Y+rUqeA4DoMHD0ZlZSWKiorCVR0Gg8FgMNquT6+goADJycnSelJSEgoKCuo8dv369ejfvz/69++PkpKS1qoig8FgMDoYbSZ6dQ3jx3FcncfOnDkThw8fxuHDhxEdHR3uqjEYDAYj3GzbBqSlATIZnW/b1iqXbbOE00lJScjLy5PW8/PzkZCQ0FbVYTAYDEZrsW0bMHMm4HTS9XPn6DoA3HdfWC/dZqI3duxYrFmzBhMnTsTBgwdhMpkQHx/fVtVhMBiMjsW2bcCiRUBuLpCSArz4YsMEhRBAEOqe8zzgcAA2G2C308lmC53E7XY7PdZup+ImTg4HkJVFywrG6aT1vVJFb9KkSdi3bx9KS0uRlJSE5557Dj6fDwAwa9YsjB49Gp9//jm6du0KnU6HTZs2hasqDAaD0fEQhNqTKFAffQTMnQu4XPTYc+eAhx4CfvwR6Nevtig5HHRyOuk54rzmsstFr9FQdLrQKSICsFhqC55Ibm7zv5d64EhdnWvtmP79+7Px9BgMRvugodZUsCBdSqgEgYqB308ntxuorKRTRQVQVUWn6mo6Fy2uuiyv8+cbJ05KZUCUagqVOGm1oZNGE7qsVtNl8Xi1mvbXBUMI3XbXXUBd3vqpqUBOTqNugUhDteGKG0SWwWAwWh2ep5MoTDwPfPgh8PjjodbU9OlAYSFw221UgESxEsUpWJhEsapLuOx2KnqXg+MAvR4wGgPzxEQ637790udt2ULFSa0OCJdSeenjRaFSKAC5nM5rLouTTFb/xHHAqlWhfXoAFcoXX2z4PWkiTPQYDEbnIVi0aoqYz0cnrzcw53nA46GCVF5Ora7ycipm69YFBE/E7Qb+/Gdg4cJLN+GJKJVUoAwGOplMAdESt4mCZjBQK0ycRMuLEDoFe74TAhw8SK29miQkAMOHN02oWhLRGm5Kn2MzYaLHYDDaN3U1IU6adGkBCxYuvz90WRDoD7jLFRCxiorAsrgubhMFzu9veH0JAWbMCAiXKF7istiMqFKF1lsQ6Pk1BQygwqNSUetKpaKCKc5Fq0ucZDJg5Upg1qzaltTKlbQJsT1w332tInI1YaLHYDDaD4QEBMrno02ITzxRuwnx9Gng9tsD5/n9AStMFK+6RKysjM6DxSAYnQ6wWumUkAD07UuXLZbAdnH57rvr7peKiwOmTastXhxH5yoVFSqxH02lCmwLFi9RwMR5Y5gyhZ7TBpZUe4c5sjAYjNZDFLNgZ43gyeulx3EctX7uuguoKwuTRkMFSRSxysq6r6dQ1C1Yl9qm1dLzROtRtA6DLT1RwHbvBpYvD+1702qBV14B7rmnbvGSy1vme2TUgjmyMBiM1iXY81DsH3M6aZ+Yy0XnQKDJrqqKCpo4FRfTfqjz56kFVVxMy6gLUWi6dastXsHLRmOoxRUsYmJ9xf0eT6BclYo6euj1AYcPpTLUeWPAAKBrV2ZNXWEw0WMwGPUT3OwoiprbTcXM7aaCESwgdjsVrdJSOl24EBC1oiI6r+kEolQCMTFAfDxw7bV0/tFHVBxrkpAAbN0aqFtw354oZoRQCzBY9JRKKmIGA52r1YF+sWCPxIY6brRRvxSj6TDRYzA6O9u2Ac88A+TlAUlJwOLFwNixAetMFDWxT8rnoyJWWkqFLNhKEwWtujr0GhwHREdTIeveHRg5ki6LU1wcEBVVu++qa1fg2WdDmxA1GuDhh2k/nShOajW1znQ6ul+jqe1SL5e3vBci44qDiR6D0VkgJNQd3+mkltTixQFRycujmTx+/hnIyKhb0MrKapdtNlPxSkqizX5xcaGCFhtbOxYs2CrjeWrRiaIkNoHefDNdfu01ev3EROCvf6Xem6KoMTFjNAImegxGRyM43sztDuQ+dLkC1lpxMe2Hev752kHQHg+wcWNgPSIiIF69etF5QkJgW1xcwAFEROw3EwXNbqfbg0VNqaQWmcEQsM6CmxrFGLJrrgGefjp83xejU8FEj8G4EuH5gNXm8YTmThRj0Xw+ah3l5VFX/5wc4OxZOjkc9V9jxw4qbgZD6PaagiZ6XgIBUVUoAn1noqCJbvrBgsZgtDJM9BiM9ooghAZai6LmdIa69rvdQH4+FbecHCA7GzhzhgpdsPdjTAxtshw/HkhPp8tPP03752oSH08FT4x/C45sEgVNrw+ksRKFTBQ1JmiMdgoTPQajLSEkkDWkZnNkTevJbqfClpsbELazZ4GCgkB5Mhl1nU9PB268kQpbRgZd1+sDx4mW4uzZwLJltR1FnnyS9sOJDiI1HUIYjCsUJnoMRmuwdSv1kMzPp84YTz5JnTTEoVrEgGeOo16RotUmNkeeOUODsEU0GqBLF9rf9cc/BoQtLY2KlEhwTkkxgFvsT9Pr6XAzcXHACy/QurFYM0YHh4keg9GSiC79oqu/zUY9JIMdRvLzaULivDwqXKKonTlDLbjgFFlmMxWzUaMCwpaeToUzuAlRbAoV+/cAKqByORU3qzUw3ItouYnMmEEnBqMTwESPwWgqfj8VGa83dEiY4MTBMhnw6qu1PSTdbpquSiQ+noraddcF+tsyMmhmkZo5HMVMJ2J/nWgh6vVUJCMiAuJ2uSFjGIxOCBM9BqM+BIEKm5hOSxz3zOsN9VZ0OqnVdvIkkJVFp1OnAum36uJ//5eKXERE6HZR3BwOOhevI5PRY6OiqMiJ6bKYuDEYDYKJHoMRjChu4hhqolOJiDi+WEEBzfSflQX8/judB3tBWq1AZibtG/vkk7oTIickAH36BMQtWEQ5jjZHWiyB/I+iuLFAbAajyTDRY3ROxMFBxT4wcTRr0TVfdPaw26n1JlpuovUmNi0qlbQZcvBgoEcPKnQ9elBLTKRXr9CsJ0AglVZlJRU3szkQAiAONcPEjcFocZjoMTo2hAT63Wo2TYoWlZjGqrAwtGkyKyt0WJvoaCpoU6cGxK1Ll1BvyZrX9PuBYcOABQuAt9+mabzEVFqTJ9NzWUwbg9FqMNFjdAyCkyYHhwQ4HKEWk0pFczyeORPaNHn2bKj11q0bMHw4FTZxslhqX9fvDwSLi1ai6FQSExNomuzfnwodg8FoU5joMa5s3G5g82bg8cdrhwQ4HEDv3qGWW1ZWaMLk2FhqtY0cGWieTE2t7RgiJmsWs6OIqFRU2OLjaWYS0WuSNU0yGO0SJnqMKwvRsqqspMHaHg+wZEndIQGLFwfW1Wpqvd1wQ6Bpsnt3IDKy9jV4njaFer2B8AOAek1araFjsSnYnxCDcSXB/mIZ7RtCAn1x5eWBcdoUCmrJ/fgj7Se7FK++SgUuLa3u9FliQHew9aZQUGGLiQkN6GZ9bwzGFQ8TPUb7QxzrrbycTjxPmwuVStr3tn8/8N13wLFj9HiZLNQiE0lIAEaPpsuCEOpcIqLVUmtPHA2AxbwxGB0aJnqMtkcQqMhVV9O8k+K4bwoFbab84QcqcgcOUCcUmQy4+mrgiSeAESNoCMGlRtcW4+NE5xKLJTRjCUuezGB0KpjoMdoGcTSBigo6idlGVCqaaPm77+h09Cg9PioKuOkmKnJDhwImU6CszExqwa1ZQwPE4+KA+fNpSIDoXMKCuhkMBpjoMVoLv5/2wVVVUe9Jn48KnUZD9x04QJstDxyg1plMBvTrBzz2GPWs7NkztE9NzD8pCHT7pEl0mJyICNY8yWAwLgkTPUZ4IISKkt1OmywdjkCWE6WSNkkGW3OEUM/IG24IWHNmc2h5LlegCVOjofF4RiN1NmFOJgwGowEw0WO0HF4vFbeyMmqtiQ4oWi21yEQHFNGa4zjaNzdnDhW63r1DxUsMHRA9K81mKnRiyMBFBCLA43PB7XfD4XOAAweNQgO5TA45J4dcJodCppCWGQxG54WJHqPp8Dy15sQmS9EKU6mo9XX8OPDtt1Tojhyh1prFQpsrRWuuZpycmC5MEKgji9VKz9HpAIUCAhHg9rvhcVXA5rGh2lMNp98JQgg4cJKo+QU/OHCA2I1HALrKQSVXQSlXQilTQqPQSOvBwiguc6wfkMHoUDDRYzQOv59aaWVlVOwIoR6QGg1d/v57KnL791MHFY4DrroK+NOfqND16RNqzYnNluLwOzodHb3bYACvVsEjeOH2u2GzF1CB8znBcRwIIVDKlVDJVTCpTQ0WJ0IIeMJDIAIcPgdsXht4ga6LIkmkdGKAglNAKafiqJTR6wVbkQqZIsSiZDAY7RsmeoyGwfM0YfILLwQ8JJ94giZcFvvm/vtfKmKRkTTJ8siR1JqrmbNSzKoiNn9GRoJPToJbLYdHTlDtqUa17QJc5S56PAdJcCK1dWRQaQQcx0HB0cdeJVfVczRtOvULftp0KjjAEx68wNdrRarkKqjl6lpWpEKmgEquYhYkg9FGMNFjXB5CaID4W28BSCl6iAAAIABJREFUS5cGmjCLioCnn6bLHAf07Uu9J0eOpH1zNePf3G5q0QHglXK4rUa4I1SolvOo9tvhdpWDc3EgHGkxgWsJZJysQeIIhFqRdq8d1aS6lhUpCqRepYdeqYderYdaroZaoYZCxv4cGYxww/7KGJemuprGzDmdwBtv1M5vCVDnkt27a1tzFwPO/R4XPIIPLp0K1VFK2BQCPAoBhFQAXkApV0ItV7cLgWsuDbUiCSHwCT6UukpR5CiiQgj6XRhUBuhVeuiUOqgV1FKUccwzlcFoKZjoMWrjcAC5ubTPTqkEduwIHRU8mKoqSfD8bifcjiq4fC5UEzdsEQp4zBpwOh2IXA6VnDbtaeWdO46O42gzaE1h5AUeTp8Tle5KyTokHIFWoYVBZYBBZYBaoZbEkMFgNB4meowAbjcdlqekhIYEfP89TdhcUEDXRWeTIPjYaOTkH0G13wGvUgaYzeCiDVDqYqBWaqBjTXYNRi6TQyvTQqvUhmz38l5UuCtQ4qAD2hIQyDgZtQrVekQoI6gYytXMmYbBqAf2i8SgYQJFRXRSKuno4atW0YTOmZnAO+8AFRUgixeDC2ri5NUqZD98D+wJVqgNGYjQ6NrwQ3Rc6rIKBSLAx/twwX4BvMCDgFALUqaCXq2HQWWAVqmVnGmY4wyDQWGi15nx+4HiYmrdcRxdfvllGm6QkACsXAmMGQPIZLB77Sgvn47Yje9DVVIBf0IsShfNgzDhLjCpa31knExq6gzGL/jpvXKV09jFi2KnU+hgUBtgUBskz1JlJ29mZnROmOh1RgSBxtnl5lLhs9uBtWuBzz6jab3+/GfgvvsAtRpe3ov8khxcqC6E7q5b4Z49MyQbCqN9oZApoJApoFMGXkVEx5kyVxnO289LcY4KmQJ6FbUKdSod1HK1FHfInGcYHZWwit6ePXvw2GOPged5TJ8+HQsWLAjZn5ubi/vvvx+VlZXgeR7Lly/HaHH8M0bLQwh1PMnJof1zPA9s2gS89x7d/+CDdDgekwkCEVBaVYicsjOQGQyw9B4ALiKiTavPaBqXc5zx8B7Y7DRAX7QKCaF9hiqFCmqZOiTuUClX1hmYz5pPGVcKYRM9nucxe/Zs7N27F0lJSRgwYADGjh2LXr16SccsXboUEyZMwCOPPILjx49j9OjRyMnJCVeVOjc2G3DuHLXqlErg009p7F11NXDXXXQ0g4QEeqizEtklWXApOBi694HCaGbD8nRA5DKaRUaj0NTaJxABvMDDJ/jg5t3gBR48udh3SDiQi3EWooepgqOeuWqFWoqzFAPzr9T8p4QQCEQAAZ0LRJC2BW8nhICAetlqFBr2AtDOCZvoHTp0CF27dkV6ejoAYOLEidi+fXuI6HEch+rqagBAVVUVEi7+6DJaEKeT9tmVl9Nmyf37gddeox6Zw4YBTz1FnVUAeL0u5JecQbG/GrrkLoi0xrLRCzopMk4Gmbzh914URTFzjZjJJji1W/CySq6CUqaUwi9EwRRFMVgoL9XUWlOULiVI4jaxTuJcrDMv8BBwcZ8ggCc8/IJfyrIjxlGKzkIXV6RtwZl5lHIlrForzBozIlQRLOFAOyRsd6SgoADJycnSelJSEg4ePBhyzJIlS3DrrbfijTfegMPhwFdffRWu6nQ+PB4qbMXFNAH0iRPUSeX4caBXL5pd5frrAQCCwKOk5BzOOYsgj49HZGwmOAX7Y2U0HLlMDjkaZsEFZ65x+pyh+U85KjKiwEhNrRc9UAkhVLAuWp1Ucy6qDhcoP3gbAZHK4cDROcdJy+K6nJNDoVBIxzXFYvML/pC+U4PKgChdFCJUEdAqtMwKbAeE7ZdNStobRM0b/sEHH2DatGl48skn8eOPP2LKlCk4evQoZDWsi/Xr12P9+vUAgJKSknBVuWPg89FA8oICmgrs/Hlg9Wo6nE9iIhW+O+6QLDhb5QWcrcqBO9IAY/q1kGu09VyAwWgewZlrGqKTwSIpk1Gv1aaKUrgRnYNEPH4PsiuyQUAdh6w6KyI1kdApdcx7to0Im+glJSUhLy9PWs/Pz6/VfPnOO+9gz549AIAhQ4bA7XajtLQUMTExIcfNnDkTM2fOBAD0798/XFW+suF5Olhrbi51WLHbgddfB3buBEwmYOFC4N57qdUHwGOvQl5FDko0AvTdMxGpN7XxB2geO7N24pWfXkGRrQjxhnjMGzwPY3qMaetqSbT3+rVnQkTyCiM4rIQXeJS7ynHBTrMb6VV6ROmiYFAbmBXYioTtSRowYABOnTqF7OxsJCYm4sMPP8T7778fckxKSgq+/vprTJs2DSdOnIDb7UZ0dHS4qtQxERNCnztHww94Hti4EdiyhVpz06cDM2fSUAQAgseNkvI8nOOqIU9NhDUyro0/QPPZmbUTi79ZDLefBs4X2gqx+JvFANAuhKW914/ROshl8lpW4LnKcyAgkMvksGgssOgsiFBGMCswjHCkrnbIFuLzzz/H448/Dp7n8eCDD2LRokV49tln0b9/f4wdOxbHjx/HjBkzYLfbwXEcVq5ciVtvvfWyZfbv3x+HDx8OV5WvHAgJJIR2u+mAq//4B/XItNmA8eOBuXOB+Hh6vN+P6orzyPaXwB1jhdGaALn8ynx7BgCH14Hz9vMoshdh3hfzUOWpqnWMRqHBiJQRIW/QYl+ONA8aIqjmdnH54s4691+23IvbPznxCRw+R636xenj8O20b1vwW2FcqfACD5ffBR/vAwDolDpER0TTGEqlrkNYgX7BDy/vhY/3wct7Yffa4fK7oJQp0c3ardnlN1Qbwip64YCJHmjTZW4uFT2tFvjiC+qRWVhIB2p98knJIxOCAE9FKXI9xSi1qKGPToJa1b777Tx+jyRo4rzIVhSyrdpT3aCyulm6SY4MwfNg77ua+0Xq2l7fsli26NJPQC5bV5PahCRjEpKMSUg2JSPZmEyXjcmIN8SzxNKdFC/vhdPnBCHUCjRrzLBqrYhQRbTrZyJY2Dx+Dxw+B1x+FxxeB/1bET15OU4KYRGIgGvir2n2tRuqDVfuq35nxOWi4QdlZXSk8uPHaY7M33+nY9gtWwYMGUKPJQS8rQrFjhLkGgkUiYmwRrT98D0+3ocLjgtUwGxFkoiJU5G9COWu8lrnRWoiEW+IR5IxCQMSBiBOH4d4fTziDfF44osnUOwornVOgiEBu+7d1Rof67LcuPlGFNoKa203qo0Y3W008qrzkFWahX9n/xs+wSftl3EyxOnjAqJoDBJFUzKsWmuHsAAYtQlOJiAQATaPDWXOMgDUCrRqrTBqjNApda2ePac+YZNiOC8Km0qugkFtqLOevMBLzf6tBRO9K4HghNAqFfXIXLUK+OEHICkJeOUV4PbbAzF1djuqHOXI1rrhTTHBqI9qkYDg+pwxeIFHqbOUWmb2Ipy31bbWSp2l0h+FiEFlQLw+HnGGOPSJ6SMJWpzh4lwfV2cAtcjT1z8d0mcG0KbNeYPnNfsztwTzBs+rs37Pjni21vdX7ChGfnU+8qrzkFedR5er8rD/3H6UOEM9l7UKrSSIohCK4phkTApJRXY5mJNN+0bGyRChikAEaEYkL+9Fga0AedV5kHEyRGojYdVapTEYW4K6hM3pc0rWZ3DMYn3C1t5gzZvtmeCE0DIZTSH22mvUI9NsBh59FJg0SfLIhNsNd3U5cjUelJlUMJiiW6wppKYzBgDIOTn6xvSFTCbDeft5FDuKaVBvEFqFloqYIT5gnV0UMnFbcOd+c+rXnn+4W6J+Lp8LBbYCSQhriqPT5ww53qq1SgKYZEoKaTqN08dBLpPXeV81Cg2W3ri0XX1/jLoRiAC33w2v3wsCAo1Sg2htdIOswGBhc/vdcPqccHip1VZT2JQyJZRy5WWTBTQF0dJrzeZNJnrtEUEIhB8IAvXI3LAB2LqVit+0acCMGYDBQI/3esHbqnBB7ka+iYPCaG4RIQnmUk10ck6O6+KvC7HKxGbHOH0cTGoTa4JrBQghqHBXXFIQi2xF4AkvHa+QKZBgSMAF+wV4+NrjJMbr47Fv2r5W/ASMlsDLe+H2u6VcqpGaSFi0FihkijYTtsvRFqLHmjfbE9u2Ac88A+TlAbGxwJ/+BFRWAm+/TUczFz0y4y6GGfj9gM2GKs6DsxYBPp0eRq2pxR9YXuDrFDyAvmlu+X9bWvR6jMbDcRwsWgssWguuir2q1n4f78N5x3nkV+UHmk2r85BblVtneUX2Ity0+SbEG+Il6zzeEI8EQ4K0bFAZ2AtNOyO4L5AQAofPgXJ3ueRNLArbldIUGQ6Y6LUXtm2j8XTOi01U588Di2ksF264gXpkdu9O1wUBqK6GW/AiN5JDmVoGg86CiDB4ddm9dsz/cv4l98cb4lv8moyWRylXSo4wQzBE2v7b+d/qfKHRq/S4LuE6FNmK8EvRL7jguFCr6TpCGYEEQwLi9HFUDIMEMsGQgFh9bLv2NOzocBwHnVLX4L7dzgITvfbCokUBwQvGaqWWHiBlWuF9HlwwK5GnAZRqLawt3JQpUmgrxKxds3C6/DTGZ47H7tO7262zCKNpXMrJZsnIJZd1UiqyFaHQVigtHys5VsvrlgOHKF2UJIYhAnnRWmyIB2p7769lXFkw0Wsv5NbdzITyiz8kDgeI240qswZntRx8SgEmdVTYmij+e+G/eORfj8Dtd+PtO9/G8NThGJo8lP34dDDE+1fffZXL5IjVxyJWH4urcXWdZbn9bimeUhLEi6J4suwkvj33bS33dJVcJQmg1ISqD4jjL0W/YOn+pSybDaPFYI4s7YWUFNqXV5P4eODjj+HSa5BrAio4D/RqfVibjfac3oOn9z6NKF0U3r7z7RbJlsBgEEJQ6a5Ekf2ilXgxTlMUxiJ7EYodxRCIUG9ZzNGmY8AcWTorggBMngy89FLodo0G/OxHUZRsQr5QBZVSDYvKErZqEELw9n/exqs/vYpr4q7B2tFrYdVZw3Y9RueC4zhEaiMRqY1Er+hedR7j430odhRLQjh/b939yUX2Ioz7cBz6xvRFn5g+6BPTB92s3VgfIqNemOi1B0pKgMOH6VBAVitQUgISGwvHM0/h5P8bAT/sMOsiw+pt5eW9+Mu//4LPsj7Dnd3vxLKblrVYoCuD0VCUciUSjYlINCYCoM2ul3K0sWgt+OLMF/jH8X/Qc2VKZEZlom9sX/SJpkKYYclgA7kyQmBPQ1vj8dBE0Xv3AnPmADNmwOVz4lxCBCp8NhiUGujD/PZa7irHnN1zcLjwMOYMnIPZA2YzV3RGu6A+RxtCCPKr83Gk+AiOFB/B0eKj2P77drx/hI7oolVo0TO6p2QN9onpgy7mLp3WXZ/B+vTanmPHgNGjAY4Ddu6Ev7oSR2IAoo9o8QDzujhTcQazds3Ceft5LB+1HHd0vyPs12QwGkNjvTcFIiCnMkcSwaPFR3G85LgknBHKCPSO6Y0+MX2k5tFkYzJ70WsDWJ9eZ0NMK5abC7zzDuDxIFfng19ngKkVBO/HvB8xd89cKGVKbBm/BVfH1e2Vx2C0JWN6jGmUp6aMkyE9Mh3pkem4q8ddAGjKrbMVZ3HkwhEcLaFCuOX/tkgJvk1qU4g12CemD+L18UwIOyBM9NoKnge+/RbYvJkmix4yBBVlBbgQr4RFbQz75T86+hGe+/Y5pEem460730KSMSns1+xsEELAEx4CEcALvJQGTM7JIZfJIeNkkHNy9sPaCihkCnS3dkd3a3f8EX8EQPuxT5efpkJYfBRHS47inV/fkYLwrVprLSGMiYgJKbc9xxC257oBtH6rf1yN8/bzSDGl4MVRL+K+vveF/bqsebOtyM8H7r4bOHIE2L0bXgWH/+od0MQmhtUDjRd4rPphFTb9tgnDU4bjb7f9rVWaUTsCongJRAgRM4EIVLgI6IC0F+eEEKjlaihkCqgVaijlSnDgaJJfwScNpikQITCYLQmM8SfmQBRFUpwzwofH70FWWRZtGr1ALcLTFaelMIrYiFhJAO1eO7b9dxvcfPtL1t3eE4nXVT+dUof1Y9Y3WfhYwun2jMsFvPoqzcLyzDMgEybglD0XttQ4GLSmsF3W4XVg/t75+Hf2vzG572QsHL6wU3u2idZXTTELHmQWoJlFCEcghxxKhRJqGRUwMc+hUq6sJUyNESixHuLcL/jBCzy8vFeaPH4PFUpxvL2L4iiKLQGRrMeaYsloHk6fEydKTwQswuKjyK7MvuTxKrkK18ZfCw6cZMVzF//R/3S7tA0IHCdu54L2BZcTtP9y5X555ku4/K5addMqtLi92+1S2cHXltZx6fX6WiWC99cqJ2jfZ79/VmtUEABINaUi5/Gcy17jUrA+vfYKIdR55bXXgJ49gXvvRXlpHsridbCGUfCKbEWY9a9ZOFl2En8Z8RdMvmpy2K7VGtQcCV18E6/ZpHg5K0wlV0EpU0Kj0EApC4iYQqaoJWAKmSJszZBymRxyyIEG6hMvXBTGIKHkBR4evwcenoqj1++Fm3fDK3jBEa7WZ+c4DnLuYhNrDbFkhKJT6nBd/HW4Lv46aZvNY0P/Df3rPF58UQm2J6TnNeiZDdlfY7s05mSQ5V/zPPHlrK79dQkeALj8LvyQ90NIvYKpOdbl5Wyiyx1bXzl1CR6ASyZAb0mY6LU25eV00NeSEuCNN+CxVeKMzg1TZErYLnnkwhE88q9H4PQ58fadb2NE6ohmlccLfK0/TkKo8NS1vaY4Bb+d1hQj8Y9YJFiwCCHSMTJOVuekkCmgkWmgkqtok6IsMFRKsJjJONkV25cmlzXcghNfAoLF0S/4pbHUJEuS98DhdVBLlxDp/ogDhDJBDMWgNiDBkFBnDGGCIQEf/PGDNqhVgEsNBZZgSMA393/TBjUK5VL1SzGF73dQhIlea+LzAV9+SePyJkwA6d0bZ4uPQZGRGrZmxi/PfImn9j4Fq9aKd+96F92t3ZtVXpW7ShIQjuMggwwy2UXRuTgXReVSk9gEE7x8ubmMk9XaxmgYHMdBwSka/HzVbFYVR8y2eWwh469x4KCQKaCUK6GUKTvlPblUDGF7SMLenusG1F0/nVKHF0e9GPZrM9FrTfLyaKoxoxGYNw/FpTmoijbCEhHZ4pcihGDDLxuw+sfVuDr2aqy9Yy2idFHNKtPmsUGn1CEzKpP1FXVQ5DI5tDIttEotACAa0dK+YOvQ46eWodPnRJWnCgAkC1Emoy9FopXdUQWxocm624L2XDcgUD/mvdkArlhHFrsdePFFYPly4KWX4LrlBvzXkQ1jZj/I5S377uHlvfjrN3/FJ79/gju63YFlo5ZBo9A0q0y71w65TI5eUb2glCtbqKaMjgAhJMQb1e13Sxaiy+8CRzjaZM1BsjrFEboZnRsWnN5REQTgP/8B3nwT6N8fwl1jcSb/V6gz0ltc8CpcFZizew5+LvwZfxrwJ/xp4J+a/abt8rkAAmRaM5ngMWrBcZzkBBSBiJB9hBApRMPLe+HyueDwOeDyuWDz2KRnkxAiCaFSpmQtCYywwUSvNSgpAVavBhwOYMkSnC/JhiNSj0hTy45gcLbiLGbtmoVCWyFevuXlFmnK8Pg98PJe9InpwxJQMxoNx3FQK9RQ4+Kzow3sE4hABfGihej0OWmTqd8JH++TXN4JqCBqFBpmHTKaDXuCwo3HA+zYAezcCUyfDkdiNHJLj8PcvW5356byU/5PmLN7DhQyBd4b/x6ujb+22WWKb+a9YnpJfTwMRksh42TQKDRS07sVgZdA0aHGJ/jg8Xvg9DlR5iyDT/BBp9SxFzBGk2GiF25OnwZWrADi48HPehini09Al5oOmbLlsq788/g/sWTfEqSZ0/DWnW8h2Zjc7DL9gh92rx09o3qyjC2MVkdyqIEWopGYbEpGlbsKedV5KHeVQy1XI0IVcfmCGIwaMNELJ1VVwFtvAWfOAGvXotBVDLdOhUhrbIsUzws8Vv+4Gu/8+g6GJQ/D3277GwxqQ4uUW+WuQndrd5g04QuYZzAag4yTIVIbCbPGDLvXjiJbESpcFZDL5DCoDB3WS5TRsjDRCxc8D/zwAx094cYbYRs2EPmFv8LSZyAdRqiZOH1OzP9yPr7O/hr39r0Xi4YvapH+DkIIKt2VSI9MZ6OmM9olHMfBoDbAoDbA5XPhguMCih3FIITAqDYyJxjGZWGiFy6KioCVKwFC4F+0EKfPH4c+IQ2ctvl9YxfsFzDrX7Pwe+nvWDx8Mab0m9ICFaaCV+4qR7IpGbH6lrFGGYxwolVqkWZOQ4IhAaWOUhTYCiAQARGqiLAmbmdcuTDRCwcuF826sm8fMG8e8vQCfA4OEXHNH77nWPExzPrXLNi9drx1x1sYmTay+fW9SIWrAnH6OCQaElusTAajNVDJVUgwJiBWH4sKVwXyq/Nh99qhVWiZExYjBCZ6LQ0hwIkTNL9mejqqJt+N80X/haXntYC8ec0uX539CvO/nI9IbSQ+/OOH6BHVo4UqDVS6K2HRWZBqTmV9I4wrFrlMjqiIKFh1VlR7qlFQXYByVzmNIVRGdLpnWyACXD4XDfuQKaGUKzt9DlUmei1NeTnwxhtAQQH8f38XpytOwxCVAM7Y9IFhCSHY+OtGrP5hNa6KvQprR69FdER0/Sc2kGp3NQwqAzIiMzr9HwSjY8BxHEwaE0waExxeB87bz6PUWQoZJ4NBbejQz7nH74HL7wIhRHL+UcgUcPqcsHvs4AkPjuOk0TY6W1JxJnotic8HfPMNsHUrMHYscnomgFQUQpWU2uQivbwXS/YtwccnPsbtXW/H8puXNzulWDB2rx0qhQrdrN2YAwCjQxKhikCGJQNJxiSUOEtQZCuCAAF6pb5DZBjyC364/W74eDrWol6lR6opFXqVHlqltpaQiTlUfTyNgbxUUnEAknXYkZKKM9FrSfLyaEyeVovyxx9GaUUeLCmZgLppgbSV7krM2T0HhwoO4dEBj2LOwDkt+ibm9DnBgUNmVCbLdMHo8KgVaiQZkxCnj0OZswwF1QWwe+1XXLA7IQRuv5uO2E5of6ZVa4VZY0aEKqLev2WF7OKoG3XofbAguv1uKal4tadaGhaMgEgjrVyJgsh+6VoKux3YsgU4fBi+vyzCaVklDDoLENXwkQ12Zu2UsqJHR0RDEARUeaqw8paVuKvHXS1aXY/fAz/vR5/YPszLjdGpUMgUiNXHIjoiGlXuKuRX57f7YHcxO5I4KLJJbUKiIRF6tR5qubrFRCdYEE0IjdH18T4ph6rH74Hda4fL56o1ygbHcSF5VNubIDLRawkEAfi//wPeeAOkTx+cHT0EispiKHtmArKGWWY7s3aGjC9V7CgGADza/9EWFzwxz2GfmD4t2lTKYFxJ1BXsXu4qh0KmaPNgd17g4fK7pCZLjVKDREMiDGoDdEpdm3RFKOW0qVOn1AEAYkHDmgghAQtR8MHlc9E8qj4HqjxVUt8hIQRymTxk2Km2gIleS1BSAvztb0BFBSrWrEKFvRiWmCRA3/D0Xa/89ErIgIoin2V9hscGP9ZiVfULftg9dvSK6dVu32oZjNbkcsHuBrWhVX6cCSHw8B64fW4QUHGwaCyI1Ea2+5hD0bIT+0fNGrO0r+awUy6fC04/FUS7xw4QtHpICRO95uLxAHv2AJ98Av/ECTiVqIHJJwPi4xtVTJGtqFHbm4KYXqyHtQeM6qZ7kzIYHZWawe6F9kLwAh8W4RH7zfyCHwBgVBsRa46FQW2AVqFtd82CTaHmsFOR2sCA2aIgtvaQrkz0msvZs8DKlSAWC049NA4qtxfy1K6AqnF/IPGGeBTaCuvc3hIIRECFqwJdrV1h0VlapEwGo6MSjmB3gQhw+93w+D0AALVcjWhdNMxaM3RKXadzJhMFsbXpXN9yS1NVBbz7LnD8OCqXPYtqzodInQmIjKz/3BpMv2Y6nv/u+ZBtGoUG8wbPa3Y1CSGocFUg1ZyKmIiYZpfHYHQWmhvsLvafizFzZo0ZKaYURCgjriiP0Y5EWCMR9+zZgx49eqBr165Yvnx5ncf84x//QK9evdC7d2/ce++94axOy8LzwM8/A2+/DX7wIGQN7wmTXw4kJzfYeSWY46XHIYMMMREx4MAhwZCApTcubZGBYCvcFYjXxyPBkNDsshiMzogY7N4rphf6xvSFSW1CpbsSVe4qCESQjuMFHnavHRWuClS4KkAIQbIxGX1i+uC6hOvQzdoNFq2FCV4bEjZLj+d5zJ49G3v37kVSUhIGDBiAsWPHolevXtIxp06dwksvvYTvv/8ekZGRKC4uDld1Wp6iImD1ahC3G6efmAqtm4csJg6IaLxzyPGS4/j4+MeYdvU0LBi2oEWrWeGuQJQuiqUXYzBaiDqD3S8Kn0KmgFVnRaQmEjqlrkMEv3c0wiZ6hw4dQteuXZGeng4AmDhxIrZv3x4iehs2bMDs2bMRebE5MCbmCml6czqB7duBPXtgmz4FVXGRMPNKIDau0UURQvDS/pdg0pjw6IBHW7SaVe4qmNVmdDF3YYLHYLQwwcHudq8darkaGoWG/a21c8LWvFlQUIDk5MAI3klJSSgoKAg55uTJkzh58iSGDh2KwYMHY8+ePeGqTstBCHDqFPDyyxCSEnHi3lth8spos6ay8W91X539CocKD+GxQY+1qEelzWODVqlFhiWDpRdjMMKIQqaAWWOGVtkxPC47OmGz9OpyQ635QPj9fpw6dQr79u1Dfn4+hg8fjqNHj8JsNocct379eqxfvx4AUFJSEq4qN4zycjoaek4Oslcvhk6mBqeLAGrUuSF4eS9WfL8C3SzdMKH3hBarosPrgEKmQHdr907nEcZgMBiXI2yWXlJSEvLy8qT1/Px8JCQk1DrmrrvuglKpRJcuXdCjRw+cOnWqVlkzZ87E4cOHcfjwYURHt9zoAo3G5wMOHAD+/nc4bhqOssFXQe0nQGJik0ZDf+//3kNedR4WDlvYYuLk9rshEAE9onpyfZU9AAAgAElEQVS064BWBoPBaAvCJnoDBgzAqVOnkJ2dDa/Xiw8//BBjx44NOWbcuHH45ptvAAClpaU4efKk1AfYLsnLA15+GYTj8Pvse2ByA4iNBZowGnqpsxTrfl6HG9NuxNCUoS1SPS/vhdvvRs/oniy9GIPBYNRB2ERPoVBgzZo1+MMf/oCePXtiwoQJ6N27N5599lns2LEDAPCHP/wBVqsVvXr1wo033ohVq1bBarWGq0rNw26no6EfOICCh+6GOjYBnFwONNHyfP3g6/DwHjw99OkWqZ6P98HusaNnVE8pNx6DwWAwQuFIa+eAaSb9+/fH4cOHW/eiggAcOgSMHw9PhAZHNy2HwQOgS5cm9eX9Xvo7xn80HpOvmoxFwxc1u3q8wKPSXYnMqMyQND8MBoPRWWioNnT8YXJbgpISYO1a4Px5nJr/AAxEBZiMgMlU/7k1IIRg2f5lMKqMmD1gdrOrJhABFe4KdLV0ZYLHYDAY9cBErz48HuDf/wb58EOU3HkjuGuuAfx+IKFpzitfZ3+NgwUHMWfQnJBs5E1BTC+WZkpDdEQbOvgwGAzGFQITvfrIyQFZtQpChBYFj06F0uEG4uIATeMdRby8Fyu/X4mMyAzc0/ueZletwl2BRGMiEowsvRiDwWA0BCZ6l6OqCti6FdyvvyJn1iTozFE0AL0Ro6EHs+2/23Cu6hwWDFvQ7PREla5KxETEINmYXP/BDAaDwQDARO/S8Dzw668ga9fA1qc7POPGAA4Hzbwib3yGk3JXOdb+vBYjUkdgROqIZlWt0lUJk9aENHMaywDBYDAYjYCJ3qUoKgL529+A6mrk/3kWFB4v9dQ0GJpU3OsHX4fT58SCoc1LKG3z2BChikDXyK6Qcez2MRgMRmNgv5p14XQCe/aA274dRXffDnn3TGr5JSY2qbiTZSfx0bGPcG/fe5FhyWhytexeOxRyml6M5dNkMBiMxsMSM9aEEOD0aQgrV8AXbYHt4Wng7HYgPr7Ro6HT4gheOvASDCpDs0IUXD4XQIBMayYbroTBYDCaSIMtvQMHDmDTpk0AaNLn7OzssFWqTSkvh/Duu5CdOo3Cx6eDU6kBtbrJziv7cvbhh7wfMHvg7CbH0Xn8Hnh5LzKjM9ngkwwGg9EMGiR6zz33HFasWIGXXnoJAODz+TB58uSwVqxN8PmAgweBjRtQOfhq+G6+gTZ1JiU1aTR0L+/F8u+Xo4u5C+7t07RR4b28F06fEz2jWXoxBoPBaC4N+iX/9NNPsWPHDkRcHBU8ISEBNpstrBVrE/Lz4XvlZcDnQ9nTcwCXC7BaAb2+ScV9cPQD5FTmNDlEwS/4YfPYkBmVCb2qaXVgMBgMRoAGiZ5KpQLHcZJ7vMPhCGul2gSbDfxnn0L59Tcovv9/wCfE0ZybcY0fDR0AKlwVWHNoDYYlD8PI1JGNPl8gAqrcVehu7Q6TpvHpzhgMBoNRmwaJ3oQJE/Dwww+jsrISGzZswM0334wZM2aEu26thyAAJ05AeGU13MnxsE2bREdVSExskvMKAKw5tAZ2rx0Lhi1odCydmF6sS2QXWHXtdNQJBoPBuAJpkPfm/PnzsXfvXhiNRmRlZeH555/HLbfcEu66tR4lJXC/vQ6a/EKcX7OMjvqu1QKRTXM8OV1+Gh8c/QAT+0xEN2u3Rp9f6a5EkjEJcfqmWZkMBoPBqJt6RY/nefzhD3/AV1991bGETsTjgf+7fVBtfR+VtwyHa+A1QHU10K1bk5xXAGD5geXQKXWYM3BOo8/18l6o5WokGpsWE8hgMBiMS1Pvr7pcLodOp0NVVVVr1Kf1ycmBd9VyEIUCZU/Mos2aUVHARaedxvLtuW+xP3c/Zg+YDYvW0ujz7V47kk3JLNsKg8FghIEGNW9qNBr07dsXt9xyi+TBCQCvv/562CrWKlRWwv7he9D//BsuPDkLfKQJcLuB2NgmFefjfVh+YDlSTam476r7Gn2+aOWxcfEYDAYjPDRI9O644w7ccccd4a5L68Lz8P72C1Rr3oSrRzqq/mcM4LADqal0JIUm8OHRD3G24izW3bEOKnnjHWAcXgcyIjOYlcdgMBhhokGid//998Pr9eLkyZMAgB49ekDZRGFoL5DCQjjWvAJzWSXOv7wE8PtoPJ65aQO7VrorsebQGgxJGoKb0m5q9Pk+3gelTMmsPAaDwQgjDRK9ffv24f7770daWhoIIcjLy8PmzZsxYkTzhshpM3w+VH25E+ZPP0fV/xsNd6/u1HklLa1Jo6EDwNqf16LaW92kEAWA9uV1iezCEkkzGAxGGGmQ6D355JP48ssv0aNHDwDAyZMnMWnSJPznP/8Ja+XCwrZtIAsXwpSXB8g4uLtnUOeV2FgaptAEzlScwftH3sfdve5GZlRmo8/3C34oZApYtSwmj8FgMMJJgzqPfD6fJHj/v707j466vvc//pzse8KSsCSBQBEIWQlhLbJF2a5EKyDQqECAsNkClutFbb2WU4SDimxuWCoeTYGWWwxdoBehiAiIA4TFAL9QCZKAyqKQPZnJ/P6IzCVmIUwyTMK8Huf0NPOd7/fzfc8Xz7zm810+H4CuXbtSXl5ut6LsJj0d0tIwXLiAATBUWAhZ8Tb+u/ZBcLDNzS7ftxwvNy/m9Z1n0/YFpQWEBYSplyciYmf1Cr3ExESmTZvGnj172LNnDzNmzKBXr172rq3xPf985QDSt3ApLaX1u5vBzbZZlj45/wl7zu9hTuIcm0ZPMVWYcDG4aOQVEZG7oF7f9G+++Savv/46q1evxmKxMGjQIObMmWPv2hrfV1/VuNjt0jc2NWeqMLHs02V0COzAE3FP2NRGflk+HQI64OaiqQ1FROytXt+0JpOJefPm8fTTTwOVo7SUlpbatTC76NABzp+vttgU2s6m5jZ/sZmz186ydtRamx5RMFeYccGFYF/bT62KiEj91ev0ZlJSEsXFxdbXxcXFPPDAA3Yrym6WLAGfqnPSVXh7ceXXT99xU9dLrrP6s9X0Ce3DA51tOxY3Sm8Q6h+qXp6IyF1Sr9ArKSnB75Y55fz8/Cj60bWxZiElBdatwxIejsVgoDysHd+89jvyx42546be+PwNrpdc57mBz9n0iEKFpQKDwaBenojIXVSvLoavry9HjhwhISEBAKPRiLeNt/c7XEoKZRPGkXnxCC18bbt55Nx35/jgxAeM6zGOyOBIm9q4UXKD9gHtbZpcVkREbFOv0Fu5ciXjx4+nffv2GAwGLl68yObNm+1dm33ZOIMCwPL9y/F09WR+v/k2bV9hqQADhPiG2FyDiIjcuTq/+T///HO+/vprevfuzenTp5kwYQJubm6MHDmSTp063a0am5T9F/az+9xuZiXOorVPa5vayC/Np51fO5tufhEREdvVGXozZ87E44eZww8cOMBLL73E3LlzadGiBWlpaXelwKbEVGFi6SdLCQsIY3LcZJvasFgsVFgq1MsTEXGAOk9vms1mWrasnBNu8+bNpKWlMXbsWMaOHUt8fPxdKbAp2ZK1hf937f+xauQqPN08bWojvzSftn5tbd5eRERsV2dPz2w2YzKZANi1axfDhv3f7AE3lzuL/NJ8Vh5cSWL7REb8ZIRNbVgsFswWM2392jZydSIiUh919vQmTZrE4MGDad26Nd7e3tx///0AnD17lsDAwLtSYFPxhvENvi/5nmcHPmvTIwpQOfpKiG+IenkiIg5SZ+g9//zzJCUlcenSJYYPH279sq+oqGDNmjV3pcCm4Pz353n/2Pv8LPJnRIdE29SGxWLBZDbRzt+20V9ERKThbvvIQr9+/aot69q1q12Kaape3v8y7q7uLOi3wOY2CsoKCPYNxsvNqxErExGRO2H7w2pO4mDuQXZ+uZOZvWbafMelxWKhvKKc9v7tG7k6ERG5Ewq9OpgrzCzdt5RQ/1CmxE+xuZ3C8kJa+7TG272ZjmIjInKPUOjV4S+n/sLpK6dZOGBhg05LlpnK1MsTEWkCFHq1KCgr4LWDr5HQLoFRXUY1qJ2WPi3xcfe5/coiImJXmtOmFm8Z3+Jq8VXeeugtmx9RACgzlxHqH9qIlYmIiK3s2tPbsWMH3bp1o0uXLixbtqzW9bZs2YLBYMBoNNqznHq7cP0CGzI38Ei3R4htE2tzO4VlhbTwaoGvh28jViciIrayW+iZzWbmzp3L9u3bycrKYuPGjWRlZVVbLz8/n9WrV9O3b197lXLHXt7/Mm4ubjzd/84nl71VqamU0AD18kREmgq7hd6hQ4fo0qULnTt3xsPDg4kTJ5KRkVFtvd/85jc888wzeHk1jefXPs/7nH/++5/M6DWDNn5tbG6nqLyIIO8g/Dz8br+yiIjcFXYLvby8PMLDw62vw8LCyMvLq7LO0aNHuXDhAg899JC9yrgj5gozL+17iXZ+7UiNT21QW8XlxbqWJyLSxNjtRhaLxVJt2a03hFRUVLBgwQI2bNhw27bWrVvHunXrALh8+XKj1fhjH57+kKzLWbw6/NUGPVNXXF5MoGcg/p7+jVidiIg0lN16emFhYVy4cMH6Ojc3l/bt/+9Ztfz8fE6ePMmQIUOIiIjg4MGDJCcn13gzS1paGkajEaPRSHBwsF3qvfmIQnybeP7jvv9oUFvF5cWEBYY1UmUiItJY7BZ6vXv3Jjs7m3PnzlFWVsamTZtITk62vh8YGMiVK1fIyckhJyeHfv36sW3bNhITE+1VUp3eOfwOl4su89z9zzXoEYUSUwl+nn74e6iXJyLS1Ngt9Nzc3Fi7di0jRowgMjKSxx57jKioKF544QW2bdtmr93aJPdGLn/I/ANjuo4hrm1cg9oqKi8iPCC8QcEpIiL2YdeH00ePHs3o0aOrLFu8eHGN6+7Zs8eepdTplf2v4GJw4Vf9f9WgdkpNpfi4+xDgGdBIlYmISGNy+mHIjBeNbD+7nek9pzd4rrvC8kI6BHZQL09EpIly6tCrsFSwdN9S2vi2YVrCtAa1VWYuw9vdm0BP55pRXkSkOXHq0Nt2Zhsnvz3Jrwb8qsEDQheWFRLur2t5IiJNmdOGXlF5Ea8eeJXYNrGM6TqmQW2VmcvwdPUkyDuokaoTERF7cLpZFtJPpPPcR8/x1Y2vAHisx2O4GBqW/YVlhXRp2aXB7YiIiH051bd0+ol00v6aZg08gN8f/T1/PfNXm9ssM5fh4epBC+8WjVGiiIjYkVOF3vO7nqeovKjKshJTCSsOrrC5zcKyQsIDwtXLExFpBpzqm/qr61/VuPxS/iWb2is3l+Pu4q5enohIM+FUodchsEONy219Pq+grICwwDBcXVwbUpaIiNwlThV6S5KWVHs0wcvNi6f73flksaYKE24ubrTybtVY5YmIiJ05VeilxKSwbsw6OgR0wICB9v7t+d3Q3zGm250/spBfmk9YgHp5IiLNidM9spASk8K4yHFkfp1p87U4c4UZV4MrrXzUyxMRaU6cqqfXWG6U3SA0IBQ3F6f7zSAi0qwp9O6QucKMCy4E+9pnMlsREbEfhd4dulF6g1B/9fJERJojhd4dqLBUYDAY1MsTEWmmFHp34EbJDdr7t8fd1d3RpYiIiA0UevVUYakAA4T4hji6FBERsZFCr57yS/Np59cOD1cPR5ciIiI2UujVg8ViocJSoV6eiEgzp9Crh/zSfNr6tcXTzdPRpYiISAMo9G7DYrFgtphp69fW0aWIiEgDKfRuI78snxDfEPXyRETuAQq9OlgsFkxmk81TD4mISNOi0KtDQVkBwb7BeLl5OboUERFpBAq9WlgsFsorymnv397RpYiISCNR6NWisLyQ1j6t8Xb3dnQpIiLSSBR6tSgzlamXJyJyj1Ho1aCgrICWPi3xcfdxdCkiItKIFHo1KDOXEeof6ugyRESkkSn0fqSwrJAWXi3w9fB1dCkiItLIFHo/UmoqJTRAvTwRkXuRQu8WReVFBHkH4efh5+hSRETEDhR6tygxlehanojIPUyh94Pi8mICPALw9/R3dCkiImInCr0fFJcXExYY5ugyRETEjhR6VJ7W9PP0w99DvTwRkXuZQo/KG1jCA8IxGAyOLkVEROzI6UOv1FSKj7sPAZ4Bji5FRETszOlDr6i8iA6BHdTLExFxAnYNvR07dtCtWze6dOnCsmXLqr2/YsUKevToQWxsLElJSZw/f96e5VRTZi7Dy92LQM/Au7pfERFxDLuFntlsZu7cuWzfvp2srCw2btxIVlZWlXV69uyJ0Wjk+PHjjBs3jmeeecZe5dSosKyQcH9dyxMRcRZ2C71Dhw7RpUsXOnfujIeHBxMnTiQjI6PKOkOHDsXHp3Img379+pGbm2uvcqoxVZjwdPUkyDvoru1TREQcy26hl5eXR3h4uPV1WFgYeXl5ta6/fv16Ro0aZa9yqnE1uBIeGI6Lwekva4qIOA03ezVssViqLavtNOIHH3yA0Wjk448/rvH9devWsW7dOgAuX77c4NoMBgOBXoG08G7R4LZERKT5sFs3JywsjAsXLlhf5+bm0r599ZnIP/roI5YsWcK2bdvw9PSssa20tDSMRiNGo5Hg4OAG1+bh6kHXVl3VyxMRcTJ2+9bv3bs32dnZnDt3jrKyMjZt2kRycnKVdY4ePcrMmTPZtm0bISEh9iqlRq4urnd1fyIi4nh2Cz03NzfWrl3LiBEjiIyM5LHHHiMqKooXXniBbdu2AfCf//mfFBQUMH78eOLj46uFooiISGMyWGq6+NaEJSYmYjQaHV2GiIg0IfXNBl3UEhERp6HQExERp6HQExERp6HQExERp6HQExERp6HQExERp6HQExERp6HQExERp6HQExERp6HQExERp6HQExERp6HQExERp6HQExERp6HQExERp6HQExERp6HQExERp6HQExERp6HQExERp6HQExERp+Hm6AJEROylvLyc3NxcSkpKHF2KNBIvLy/CwsJwd3e3aXuFnojcs3Jzc/H39yciIgKDweDocqSBLBYLV69eJTc3l06dOtnUhk5visg9q6SkhFatWinw7hEGg4FWrVo1qOeu0BORe5oC797S0H9PhZ6IiJ1cvXqV+Ph44uPjadu2LaGhodbXZWVl9Wpj6tSpnDlzps51Xn/9ddLT0xujZDIyMoiPjycuLo4ePXrw+9//vlHabSp0TU9E5Kb0dHj+efjqK+jQAZYsgZQUm5tr1aoVmZmZALz44ov4+fmxcOHCKutYLBYsFgsuLjX3Qd59993b7mfu3Lk213ir0tJSZs+ejdFopH379pSWlnL+/PkGtXm7z3e3NY0qREQcLT0d0tLg/HmwWCr/Py2tcnkjO3v2LNHR0cyaNYuEhAQuXbpEWloaiYmJREVFsXjxYuu6AwcOJDMzE5PJRFBQEIsWLSIuLo7+/fvz7bffAvDrX/+alStXWtdftGgRffr0oVu3buzfvx+AwsJCxo4dS1xcHJMmTSIxMdEayDddv34di8VCy5YtAfD09KRr164AfP311zz88MPExsYSFxfHZ599BsDy5cuJjo4mOjqaNWvW1Pr5tm/fTv/+/UlISGDChAkUFhY2+nGtD4WeiDiH+fNhyJDa/zdtGhQVVd2mqKhyeW3bzJ9vczlZWVlMmzaNo0ePEhoayrJlyzAajRw7doydO3eSlZVVbZvr168zePBgjh07Rv/+/fnDH/5QY9sWi4VDhw7x8ssvWwN0zZo1tG3blmPHjrFo0SKOHj1abbuQkBBGjBhBx44d+fnPf87GjRupqKgAKnuTDz74IMePH+fw4cNERkZy6NAh0tPTOXToEAcOHOCNN97g+PHj1T6fu7s7y5YtY9euXRw5coTY2FhWrVpl87FrCIWeiAhAaemdLW+gn/zkJ/Tu3dv6euPGjSQkJJCQkMCpU6dqDD1vb29GjRoFQK9evcjJyamx7UcffbTaOvv27WPixIkAxMXFERUVVeO2GzZsYOfOnSQmJrJs2TLS0tIA2LNnDzNnzgTAzc2NgIAAPvnkE8aOHYuPjw/+/v488sgj7Nu3r9rn279/P1lZWQwYMID4+HjS09Nrrd3edE1PRJzDD6f/ahURUXlK88c6doQ9exq9HF9fX+vf2dnZrFq1ikOHDhEUFMTjjz9e4235Hh4e1r9dXV0xmUw1tu3p6VltHYvFUu/aYmNjiY2N5ec//zmRkZHWm1l+fOdkXW3e+vksFgsjR47k/fffr3cN9qKenogIVN604uNTdZmPT+VyO7tx4wb+/v4EBARw6dIl/vnPfzb6PgYOHMif/vQnAE6cOFFjT/LGjRvs3bvX+jozM5OOHTsCMHToUN566y0AzGYzN27cYNCgQWzdupXi4mIKCgrIyMjg/vvvr9bugAED+Pjjj/nyyy+ByuuL2dnZjf4Z60M9PRER+L+7NBvx7s36SkhIoEePHkRHR9O5c2d++tOfNvo+fvGLX/Dkk08SGxtLQkIC0dHRBAYGVlnHYrGwdOlSZsyYgbe3N35+ftbrhmvXrmXGjBm8/fbbuLm58fbbb9OnTx8mTZpkPY05e/ZsYmJiOHv2bJV227Rpw/r165kwYYL1UY2XXnqJ++67r9E/5+0YLHfS520CEhMTMRqNji5DRJqBU6dOERkZ6egymgSTyYTJZMLLy4vs7GyGDx9OdnY2bm7Nr+9T079rfbOh+X1aERG5YwUFBSQlJWEymbBYLNYem7Nxvk8sIuKEgoKCOHz4sKPLcDjdyCIiIk5DoSciIk5DoSciIk5DoSciIk5DoSciYidDhgyp9qD5ypUrmTNnTp3b+fn5AXDx4kXGjRtXa9u3u0V/5cqVFN0ynujo0aP5/vvv61N6nc6cOcOQIUOIj48nMjLSOlRZc6DQExH5QfqJdCJWRuDyWxciVkaQfqJhMyxMmjSJTZs2VVm2adMmJk2aVK/t27dvz5YtW2ze/49D7x//+AdBQUE2t3fTL3/5SxYsWEBmZianTp3iF7/4RYPbNJvNDW6jPhR6IiJUBl7aX9M4f/08Fiycv36etL+mNSj4xo0bx9/+9jdKfxi0Oicnh4sXLzJw4EDrc3MJCQnExMSQkZFRbfucnByio6MBKC4uZuLEicTGxjJhwgSKi4ut682ePds6LdF///d/A7B69WouXrzI0KFDGTp0KAARERFcuXIFgBUrVlinBLo5LVFOTg6RkZHMmDGDqKgohg8fXmU/N126dImwsDDr65iYGKAyuBYuXEhMTAyxsbHWqYZ27dpFz549iYmJITU11Xo8IiIiWLx4MQMHDuTPf/4z//73vxk5ciS9evXi/vvv5/Tp0zYf+9rY9Tm9HTt2MG/ePMxmM9OnT2fRokVV3i8tLeXJJ5/k8OHDtGrVis2bNxMREWHPkkTESc3fMZ/MrzNrff9g7kFKzVVnVCgqL2JaxjTeOfxOjdvEt41n5cjaB7Ju1aoVffr0YceOHTz88MNs2rSJCRMmYDAY8PLyYuvWrQQEBHDlyhX69etHcnJytUGdb3rzzTfx8fHh+PHjHD9+nISEBOt7S5YsoWXLlpjNZpKSkjh+/Di//OUvWbFiBf/6179o3bp1lbYOHz7Mu+++y2effYbFYqFv374MHjyYFi1akJ2dzcaNG3nnnXd47LHH+J//+R8ef/zxKtsvWLCAYcOGMWDAAIYPH87UqVMJCgpi3bp1nDt3jqNHj+Lm5sa1a9coKSlhypQp7Nq1i65du/Lkk0/y5ptvMv+HaZm8vLysMzMkJSXx1ltvcd999/HZZ58xZ84cdu/eXevxtYXdenpms5m5c+eyfft2srKy2LhxY7UBTtevX0+LFi04e/YsCxYs4L/+67/sVY6ISJ1+HHi3W15ft57ivPXUpsVi4bnnniM2NpYHHniAvLw8vvnmm1rb2bt3rzV8bs6CcNOf/vQnEhIS6NmzJ1988UWNg0nfat++ffzsZz/D19cXPz8/Hn30UT755BMAOnXqRHx8PFD79EVTp07l1KlTjB8/nj179tCvXz9KS0v56KOPmDVrlnWkl5YtW3LmzBk6depknYx28uTJVQa1njBhAlA5Ysz+/fsZP3488fHxzJw5k0uXLtX5OWxht57eoUOH6NKlC507dwZg4sSJZGRk0KNHD+s6GRkZvPjii0DlaYCnnnoKi8VS6y8dERFb1dUjA4hYGcH569WnFuoY2JE9U/bYvN9HHnmEp59+miNHjlBcXGztoaWnp3P58mUOHz6Mu7s7ERERNU4ndKuavhvPnTvHK6+8wueff06LFi2YMmXKbdupa8jlm9MSQeXURDWd3oTK642pqamkpqYSHR3NyZMna/z+vt3wzjenIKqoqCAoKKjabO6NzW49vby8PMLDw62vw8LCyMvLq3UdNzc3AgMDuXr1arW21q1bR2JiIomJiVy+fNleJYuIE1uStAQf96pTC/m4+7AkqWFTC/n5+TFkyBBSU1Or3MBy/fp1QkJCcHd351//+hfna5rL7xaDBg0iPb3y+uLJkyetM5TfuHEDX19fAgMD+eabb9i+fbt1G39/f/Lz82ts68MPP6SoqIjCwkK2bt1a45RAtdmxYwfl5eUAfP3111y9epXQ0FCGDx/OW2+9ZZ3D79q1a3Tv3p2cnBzrzAvvv/8+gwcPrtZmQEAAnTp14s9//jNQGZbHjh2rd031ZbfQqynd6/MLoKZfMmlpaRiNRoxGI8HBwY1XpIjID1JiUlg3Zh0dAztiwEDHwI6sG7OOlJiGTy00adIkjh07Zp25HCAlJQWj0UhiYiLp6el07969zjZmz55NQUEBsbGxLF++nD59+gCVs6D37NmTqKgoUlNTq0xLlJaWxqhRo6w3styUkJDAlClT6NOnD3379mX69On07Nmz3p/nf//3f4mOjiYuLo4RI0bw8ssv07ZtW6ZPn06HDh2IjY0lLi6OP/7xj3h5efHuu+8yfvx4YmJicHFxYdasWTW2m56ezvr1660zu9d0c09D2W1qoQMHDvDiiy9an1FZunQpANn74VAAAAlYSURBVM8++6x1nREjRvDiiy/Sv39/TCYTbdu25fLly3We3tTUQiJSX5pa6N7UkKmF7NbT6927N9nZ2Zw7d46ysjI2bdpEcnJylXWSk5N57733ANiyZQvDhg3T9TwREbEbu93I4ubmxtq1axkxYgRms5nU1FSioqJ44YUXSExMJDk5mWnTpvHEE0/QpUsXWrZsWe0hThERkcZk1+f0Ro8ezejRo6ssW7x4sfVvLy8v60VLERERe9OILCJyT7PTbQviIA3991Toicg9y8vLi6tXryr47hEWi4WrV6/i5eVlcxt2Pb0pIuJIYWFh5Obm6vnee4iXl1eVcT/vlEJPRO5Z7u7udOrUydFlSBOi05siIuI0FHoiIuI0FHoiIuI07DYMmb20bt36np9z7/Llyxpj1EY6drbTsbOdjp3tGuvY5eTkWCfIrUuzCz1noPFFbadjZzsdO9vp2Nnubh87nd4UERGnodATERGn4frizanLpUnp1auXo0totnTsbKdjZzsdO9vdzWOna3oiIuI0dHpTRESchkKvCblw4QJDhw4lMjKSqKgoVq1a5eiSmh2z2UzPnj156KGHHF1Ks/L9998zbtw4unfvTmRkJAcOHHB0Sc3Ga6+9RlRUFNHR0UyaNImSkhJHl9RkpaamEhISQnR0tHXZtWvXePDBB7nvvvt48MEH+e677+xag0KvCXFzc+PVV1/l1KlTHDx4kNdff52srCxHl9WsrFq1isjISEeX0ezMmzePkSNHcvr0aY4dO6ZjWE95eXmsXr0ao9HIyZMnMZvNmgy7DlOmTGHHjh1Vli1btoykpCSys7NJSkpi2bJldq1BodeEtGvXjoSEBAD8/f2JjIwkLy/PwVU1H7m5ufz9739n+vTpji6lWblx4wZ79+5l2rRpAHh4eBAUFOTgqpoPk8lEcXExJpOJoqIi2rdv7+iSmqxBgwbRsmXLKssyMjKYPHkyAJMnT+bDDz+0aw0KvSYqJyeHo0eP0rdvX0eX0mzMnz+f5cuX4+Ki/6zvxJdffklwcDBTp06lZ8+eTJ8+ncLCQkeX1SyEhoaycOFCOnToQLt27QgMDGT48OGOLqtZ+eabb2jXrh1Q+cP/22+/tev+9O3QBBUUFDB27FhWrlxJQECAo8tpFv72t78REhKi28ZtYDKZOHLkCLNnz+bo0aP4+vra/RTTveK7774jIyODc+fOcfHiRQoLC/nggw8cXZbUQaHXxJSXlzN27FhSUlJ49NFHHV1Os/Hpp5+ybds2IiIimDhxIrt37+bxxx93dFnNQlhYGGFhYdazCuPGjePIkSMOrqp5+Oijj+jUqRPBwcG4u7vz6KOPsn//fkeX1ay0adOGS5cuAXDp0iVCQkLsuj+FXhNisViYNm0akZGRPP30044up1lZunQpubm55OTksGnTJoYNG6Zf3PXUtm1bwsPDOXPmDAC7du2iR48eDq6qeejQoQMHDx6kqKgIi8XCrl27dBPQHUpOTua9994D4L333uPhhx+26/4Uek3Ip59+yvvvv8/u3buJj48nPj6ef/zjH44uS5zAmjVrSElJITY2lszMTJ577jlHl9Qs9O3bl3HjxpGQkEBMTAwVFRWkpaU5uqwma9KkSfTv358zZ84QFhbG+vXrWbRoETt37uS+++5j586dLFq0yK41aEQWERFxGurpiYiI01DoiYiI01DoiYiI01DoiYiI01DoiYiI01DoidTCYDDwxBNPWF+bTCaCg4NtnsFh27ZtDh3pZMiQIXTr1o3Y2Fi6d+/OU089xffff29zexs2bODixYvW1xEREVy5cqUxShWxG4WeSC18fX05efIkxcXFAOzcuZPQ0FCb20tOTrb7M0i3k56ezvHjxzl+/Dienp4NehD4x6En0hwo9ETqMGrUKP7+978DsHHjRiZNmmR979ChQwwYMICePXsyYMAA64gmK1asIDU1FYATJ04QHR1NUVERGzZs4KmnngIqp1iZPXs2Q4cOpXPnznz88cekpqYSGRnJlClTrPvw8/Oz/r1lyxbre/XdvjYeHh4sX76cr776imPHjgHwwQcf0KdPH+Lj45k5cyZms9law69+9SsSEhJISkri8uXLbNmyBaPRSEpKCvHx8dYfBmvWrLE+qH369GkbjriIfSn0ROowceJENm3aRElJCcePH68y60X37t3Zu3cvR48eZfHixdZRTObPn8/Zs2fZunUrU6dO5e2338bHx6da29999x27d+/mtddeY8yYMSxYsIAvvviCEydOkJmZedvaGrq9q6srcXFxnD59mlOnTrF582Y+/fRTMjMzcXV1JT09HYDCwkISEhI4cuQIgwcP5re//S3jxo0jMTGR9PR0MjMz8fb2BqB169bWwatfeeWVeh1jkbvJzdEFiDRlsbGx5OTksHHjRkaPHl3lvevXrzN58mSys7MxGAyUl5cD4OLiwoYNG4iNjWXmzJn89Kc/rbHtMWPGYDAYiImJoU2bNsTExAAQFRVFTk4O8fHxddbW0O2hcrxXqBxv8/Dhw/Tu3RuA4uJi68C/Li4uTJgwAYDHH3+8zoHQb77Xq1cv/vKXv9x2/yJ3m0JP5DaSk5NZuHAhe/bs4erVq9blv/nNbxg6dChbt24lJyeHIUOGWN/Lzs7Gz8+vzmtenp6eQGWo3Pz75muTyQRU3kxzU0lJyR1vXxez2cyJEyeIjIzk22+/ZfLkySxduvS2291aU22fydXVtV41iNxtOr0pchupqam88MIL1p7UTdevX7fe2LJhw4Yqy+fNm8fevXu5evUqW7ZssXnfbdq04dSpU1RUVLB161ab2/mx8vJynn32WcLDw4mNjSUpKYktW7ZYJ/C8du0a58+fB6CiosL6Gf74xz8ycOBAAPz9/cnPz2+0mkTuBvX0RG4jLCyMefPmVVv+zDPPMHnyZFasWMGwYcOsyxcsWMCcOXPo2rUr69evZ+jQoQwaNMimfS9btoyHHnqI8PBwoqOjKSgosPlzAKSkpODp6UlpaSkPPPAAGRkZAPTo0YPf/e53DB8+nIqKCtzd3Xn99dfp2LEjvr6+fPHFF/Tq1YvAwEA2b94MVN5MM2vWLLy9vTlw4ECD6hK5WzTLgojUyc/Pr8FhK9JU6PSmiIg4DfX0RETEaainJyIiTkOhJyIiTkOhJyIiTkOhJyIiTkOhJyIiTkOhJyIiTuP/A1uSq4YQYqVtAAAAAElFTkSuQmCC\n",
  },
     "metadata": {},
     "output_type": "display_data"
    }      
   ],
   "source": [
    "vs.ModelComplexity(X_train, y_train)"
   ]
  },
  {
   "cell_type": "markdown",
   "metadata": {},
   "source": [
    "### Question 5 - Bias-Variance Tradeoff\n",
    "* When the model is trained with a maximum depth of 1, does the model suffer from high bias or from high variance? \n",
    "* How about when the model is trained with a maximum depth of 10? What visual cues in the graph justify your conclusions?\n",
    "\n",
    "**Hint:** High bias is a sign of underfitting(model is not complex enough to pick up the nuances in the data) and high variance is a sign of overfitting(model is by-hearting the data and cannot generalize well). Think about which model(depth 1 or 10) aligns with which part of the tradeoff."
   ]
  },
  {
   "cell_type": "markdown",
   "metadata": {},
   "source": [
    "**Answer: **\n"
    "With max_depth= 1 the model is high Bias - Underfitting. In this model, training and test scores are low indicating that it is very simple; hence high bias.\n"
    "At depth of 10, model is Overfitting. At depth =10, Training Score and Validation score are high compared when compared to depth=1 which means Training Error and Validation Error are low. Additionally at depth=10 Training error is low and Testing error is high which means it is Overfitting.\n"
   ]
  },
  {
   "cell_type": "markdown",
   "metadata": {},
   "source": [
    "### Question 6 - Best-Guess Optimal Model\n",
    "* Which maximum depth do you think results in a model that best generalizes to unseen data? \n",
    "* What intuition lead you to this answer?\n",
    "\n",
    "** Hint: ** Look at the graph above Question 5 and see where the validation scores lie for the various depths that have been assigned to the model. Does it get better with increased depth? At what point do we get our best validation score without overcomplicating our model? And remember, Occams Razor states \"Among competing hypotheses, the one with the fewest assumptions should be selected.\""
   ]
  },
  {
   "cell_type": "markdown",
   "metadata": {},
   "source": [
    "**Answer: **\n"
    "Max depth = 4 seems to be good fit for the model since the Training and Validation curves look to be converging at a lower Training and Validation error. This can be concluded by evaluating underfitting(max_depth = 1) and overfitting(max_depth= 6 & 10) curves. \n"
   ]
  },
  {
   "cell_type": "markdown",
   "metadata": {},
   "source": [
    "-----\n",
    "\n",
    "## Evaluating Model Performance\n",
    "In this final section of the project, you will construct a model and make a prediction on the client's feature set using an optimized model from `fit_model`."
   ]
  },
  {
   "cell_type": "markdown",
   "metadata": {},
   "source": [
    "### Question 7 - Grid Search\n",
    "* What is the grid search technique?\n",
    "* How it can be applied to optimize a learning algorithm?\n",
    "\n",
    "** Hint: ** When explaining the Grid Search technique, be sure to touch upon why it is used,  what the 'grid' entails and what the end goal of this method is. To solidify your answer, you can also give an example of a parameter in a model that can be optimized using this approach."
   ]
  },
  {
   "cell_type": "markdown",
   "metadata": {},
   "source": [
    "**Answer: ** \n"
    "Grid Search technique is used to find out the optimal parameters(Ex:slope, degree/coefficient of polynomial etc) for a model by using the training data. \n"
    "Measurement/Scorer techniques like f1 score is used to find the best fit model. Use corss-validation data to find the scorer(Ex:f1 score). Pick the model with highest scorer(ex:highest f1 score). \n"
    "Using these parameters the model is tested with the testing data to conclude the model is good. \n"
    "For a Decision Tree model, the hyper-parameters would be depth whereas for a Support Vector Machine model the parameters would be kernel and gamma values."

   ]
  },
  {
   "cell_type": "markdown",
   "metadata": {},
   "source": [
    "### Question 8 - Cross-Validation\n",
    "\n",
    "* What is the k-fold cross-validation training technique? \n",
    "\n",
    "* What benefit does this technique provide for grid search when optimizing a model?\n",
    "\n",
    "**Hint:** When explaining the k-fold cross validation technique, be sure to touch upon what 'k' is, how the dataset is split into different parts for training and testing and the number of times it is run based on the 'k' value.\n",
    "\n",
    "When thinking about how k-fold cross validation helps grid search, think about the main drawbacks of grid search which are hinged upon **using a particular subset of data for training or testing** and how k-fold cv could help alleviate that. You can refer to the [docs](http://scikit-learn.org/stable/modules/cross_validation.html#cross-validation) for your answer."
   ]
  },
  {
   "cell_type": "markdown",
   "metadata": {},
   "source": [
    "**Answer: **\n"
    "k-fold cross-validation training technique helps in avoiding overfitting the model. In this technique the data is split into k buckets and trained k times. Each time the model is trained using (k-1) training sets and one testing set. Finally the results are averaged to get the model. \n"
    "In k-fold cross-validation entire data is used as both training and testing sets and model is trained multiple times which helps in reducing high variance.\n"
    "In Gridserach the model is trained by splitting the data into training and testing sub-sets which can result in high bias/variance.\n"
    "Hence k-fold cross-validation provides a better model since the model will work better when tested with new data."

   ]
  },
  {
   "cell_type": "markdown",
   "metadata": {},
   "source": [
    "### Implementation: Fitting a Model\n",
    "Your final implementation requires that you bring everything together and train a model using the **decision tree algorithm**. To ensure that you are producing an optimized model, you will train the model using the grid search technique to optimize the `'max_depth'` parameter for the decision tree. The `'max_depth'` parameter can be thought of as how many questions the decision tree algorithm is allowed to ask about the data before making a prediction. Decision trees are part of a class of algorithms called *supervised learning algorithms*.\n",
    "\n",
    "In addition, you will find your implementation is using `ShuffleSplit()` for an alternative form of cross-validation (see the `'cv_sets'` variable). While it is not the K-Fold cross-validation technique you describe in **Question 8**, this type of cross-validation technique is just as useful!. The `ShuffleSplit()` implementation below will create 10 (`'n_splits'`) shuffled sets, and for each shuffle, 20% (`'test_size'`) of the data will be used as the *validation set*. While you're working on your implementation, think about the contrasts and similarities it has to the K-fold cross-validation technique.\n",
    "\n",
    "Please note that ShuffleSplit has different parameters in scikit-learn versions 0.17 and 0.18.\n",
    "For the `fit_model` function in the code cell below, you will need to implement the following:\n",
    "- Use [`DecisionTreeRegressor`](http://scikit-learn.org/stable/modules/generated/sklearn.tree.DecisionTreeRegressor.html) from `sklearn.tree` to create a decision tree regressor object.\n",
    "  - Assign this object to the `'regressor'` variable.\n",
    "- Create a dictionary for `'max_depth'` with the values from 1 to 10, and assign this to the `'params'` variable.\n",
    "- Use [`make_scorer`](http://scikit-learn.org/stable/modules/generated/sklearn.metrics.make_scorer.html) from `sklearn.metrics` to create a scoring function object.\n",
    "  - Pass the `performance_metric` function as a parameter to the object.\n",
    "  - Assign this scoring function to the `'scoring_fnc'` variable.\n",
    "- Use [`GridSearchCV`](http://scikit-learn.org/0.17/modules/generated/sklearn.grid_search.GridSearchCV.html) from `sklearn.grid_search` to create a grid search object.\n",
    "  - Pass the variables `'regressor'`, `'params'`, `'scoring_fnc'`, and `'cv_sets'` as parameters to the object. \n",
    "  - Assign the `GridSearchCV` object to the `'grid'` variable."
   ]
  },
  {
   "cell_type": "code",
   "execution_count": 8,
   "metadata": {
    "collapsed": false
   },
   "outputs": [],
   "source": [
    "# TODO: Import 'make_scorer', 'DecisionTreeRegressor', and 'GridSearchCV'\n",
    "from sklearn.metrics import make_scorer \n"
    "from sklearn.tree import DecisionTreeRegressor \n"
    "from sklearn.grid_search import GridSearchCV \n"
    "\n",
    "def fit_model(X, y):\n",
    "    \"\"\" Performs grid search over the 'max_depth' parameter for a \n",
    "        decision tree regressor trained on the input data [X, y]. \"\"\"\n",
    "    \n",
    "    # Create cross-validation sets from the training data\n",
    "    # sklearn version 0.18: ShuffleSplit(n_splits=10, test_size=0.1, train_size=None, random_state=None)\n",
    "    # sklearn versiin 0.17: ShuffleSplit(n, n_iter=10, test_size=0.1, train_size=None, random_state=None)\n",
    "    cv_sets = ShuffleSplit(X.shape[0], n_iter = 10, test_size = 0.20, random_state = 0)\n",
    "\n",
    "    # TODO: Create a decision tree regressor object\n",
    "    regressor = DecisionTreeRegressor(random_state=0)\n",
    "\n",
    "    # TODO: Create a dictionary for the parameter 'max_depth' with a range from 1 to 10\n",
    "    params = {'max_depth': list(range(1,11))}\n",
    "\n",
    "    # TODO: Transform 'performance_metric' into a scoring function using 'make_scorer' \n",
    "    scoring_fnc = make_scorer(performance_metric)\n",
    "\n",
    "    # TODO: Create the grid search cv object --> GridSearchCV()\n",
    "    # Make sure to include the right parameters in the object:\n",
    "    # (estimator, param_grid, scoring, cv) which have values 'regressor', 'params', 'scoring_fnc', and 'cv_sets' respectively.\n",
    "    grid = GridSearchCV(regressor, params,scoring=scoring_fnc, cv=cv_sets)\n",
    "\n",
    "    # Fit the grid search object to the data to compute the optimal model\n",
    "    grid = grid.fit(X, y)\n",
    "\n",
    "    # Return the optimal model after fitting the data\n",
    "    return grid.best_estimator_"
   ]
  },
  {
   "cell_type": "markdown",
   "metadata": {},
   "source": [
    "### Making Predictions\n",
    "Once a model has been trained on a given set of data, it can now be used to make predictions on new sets of input data. In the case of a *decision tree regressor*, the model has learned *what the best questions to ask about the input data are*, and can respond with a prediction for the **target variable**. You can use these predictions to gain information about data where the value of the target variable is unknown — such as data the model was not trained on."
   ]
  },
  {
   "cell_type": "markdown",
   "metadata": {},
   "source": [
    "### Question 9 - Optimal Model\n",
    "\n",
    "* What maximum depth does the optimal model have? How does this result compare to your guess in **Question 6**?  \n",
    "\n",
    "Run the code block below to fit the decision tree regressor to the training data and produce an optimal model."
   ]
  },
  {
   "cell_type": "code",
   "execution_count": 9,
   "metadata": {
    "collapsed": false,
    "scrolled": true
   },
   "outputs": [
    {
     "name": "stdout",
     "output_type": "stream",
     "text": [
      "Parameter 'max_depth' is 4 for the optimal model.\n"
     ]
    }
   ],
   "source": [
    "# Fit the training data to the model using grid search\n",
    "reg = fit_model(X_train, y_train)\n",
    "\n",
    "# Produce the value for 'max_depth'\n",
    "print(\"Parameter 'max_depth' is {} for the optimal model.\".format(reg.get_params()['max_depth']))"
   ]
  },
  {
   "cell_type": "markdown",
   "metadata": {},
   "source": [
    "** Hint: ** The answer comes from the output of the code snipped above.\n",
    "\n",
    "**Answer: **\n"
    "Output of the model is max_depth = 4 which is in accordance with my answer in question 6. \n"
   ]
  },
  {
   "cell_type": "markdown",
   "metadata": {},
   "source": [
    "### Question 10 - Predicting Selling Prices\n",
    "Imagine that you were a real estate agent in the Boston area looking to use this model to help price homes owned by your clients that they wish to sell. You have collected the following information from three of your clients:\n",
    "\n",
    "| Feature | Client 1 | Client 2 | Client 3 |\n",
    "| :---: | :---: | :---: | :---: |\n",
    "| Total number of rooms in home | 5 rooms | 4 rooms | 8 rooms |\n",
    "| Neighborhood poverty level (as %) | 17% | 32% | 3% |\n",
    "| Student-teacher ratio of nearby schools | 15-to-1 | 22-to-1 | 12-to-1 |\n",
    "\n",
    "* What price would you recommend each client sell his/her home at? \n",
    "* Do these prices seem reasonable given the values for the respective features? \n",
    "\n",
    "**Hint:** Use the statistics you calculated in the **Data Exploration** section to help justify your response.  Of the three clients, client 3 has has the biggest house, in the best public school neighborhood with the lowest poverty level; while client 2 has the smallest house, in a neighborhood with a relatively high poverty rate and not the best public schools.\n",
    "\n",
    "Run the code block below to have your optimized model make predictions for each client's home."
   ]
  },
  {
   "cell_type": "code",
   "execution_count": 10,
   "metadata": {
    "collapsed": false
   },
   "outputs": [
    {
     "name": "stdout",
     "output_type": "stream",
     "text": [
      "Predicted selling price for Client 1's home: $306,337.50\n",
      "Predicted selling price for Client 2's home: $224,342.55\n",
      "Predicted selling price for Client 3's home: $930,490.91\n"
     ]
    }
   ],
   "source": [
    "# Produce a matrix for client data\n",
    "client_data = [[5, 17, 15], # Client 1\n",
    "               [4, 32, 22], # Client 2\n",
    "               [8, 3, 12]]  # Client 3\n",
    "\n",
    "# Show predictions\n",
    "for i, price in enumerate(reg.predict(client_data)):\n",
    "    print(\"Predicted selling price for Client {}'s home: ${:,.2f}\".format(i+1, price))"
   ]
  },
  {
   "cell_type": "markdown",
   "metadata": {},
   "source": [
    "**Answer: **\n"
    "Predicted selling price for Client 1's home: $306,337.50\n",
    "Predicted selling price for Client 2's home: $224,342.55\n",
    "Predicted selling price for Client 3's home: $930,490.91\n",
    "\n",
    "These predictions fit into the linear relationship of the price of the house with features.\n",
    "\n"
   ]
  },
  {
   "cell_type": "markdown",
   "metadata": {},
   "source": [
    "### Sensitivity\n",
    "An optimal model is not necessarily a robust model. Sometimes, a model is either too complex or too simple to sufficiently generalize to new data. Sometimes, a model could use a learning algorithm that is not appropriate for the structure of the data given. Other times, the data itself could be too noisy or contain too few samples to allow a model to adequately capture the target variable — i.e., the model is underfitted. \n",
    "\n",
    "**Run the code cell below to run the `fit_model` function ten times with different training and testing sets to see how the prediction for a specific client changes with respect to the data it's trained on.**"
   ]
  },
  {
   "cell_type": "code",
   "execution_count": 11,
   "metadata": {
    "collapsed": false
   },
   "outputs": [
    {
     "name": "stdout",
     "output_type": "stream",
     "text": [
      "Trial 1: $391,183.33\n",
      "Trial 2: $424,935.00\n",
      "Trial 3: $415,800.00\n",
      "Trial 4: $420,622.22\n",
      "Trial 5: $418,377.27\n",
      "Trial 6: $411,931.58\n",
      "Trial 7: $399,663.16\n",
      "Trial 8: $407,232.00\n",
      "Trial 9: $351,577.61\n",
      "Trial 10: $413,700.00\n",
      "\n",
      "Range in prices: $73,357.39\n"
     ]
    }
   ],
   "source": [
    "vs.PredictTrials(features, prices, fit_model, client_data)"
   ]
  },
  {
   "cell_type": "markdown",
   "metadata": {},
   "source": [
    "### Question 11 - Applicability\n",
    "\n",
    "* In a few sentences, discuss whether the constructed model should or should not be used in a real-world setting.  \n",
    "\n",
    "**Hint:** Take a look at the range in prices as calculated in the code snippet above. Some questions to answering:\n",
    "- How relevant today is data that was collected from 1978? How important is inflation?\n",
    "- Are the features present in the data sufficient to describe a home? Do you think factors like quality of apppliances in the home, square feet of the plot area, presence of pool or not etc should factor in?\n",
    "- Is the model robust enough to make consistent predictions?\n",
    "- Would data collected in an urban city like Boston be applicable in a rural city?\n",
    "- Is it fair to judge the price of an individual home based on the characteristics of the entire neighborhood?"
   ]
  },
  {
   "cell_type": "markdown",
   "metadata": {},
   "source": [
    "**Answer: **\n"
    "This model cannot help in todays world since the data is collected four decades ago. Many other factors can influence the price of the home and inflation could be one of them.\n"
    "This model is robust if any client wanted to sell the home only in Boston area during 1978 and considering only the 'features' used in this model. \n" 
    "This model cannot be used to predit the home prices in any other locations or when any other characteristics are considered. Hence it is not a very robust model.\n"
   ]
  },
  {
   "cell_type": "markdown",
   "metadata": {},
   "source": [
    "> **Note**: Once you have completed all of the code implementations and successfully answered each question above, you may finalize your work by exporting the iPython Notebook as an HTML document. You can do this by using the menu above and navigating to  \n",
    "**File -> Download as -> HTML (.html)**. Include the finished document along with this notebook as your submission."
   ]
  }
 ],
 "metadata": {
  "anaconda-cloud": {},
  "kernelspec": {
   "display_name": "Python 3",
   "language": "python",
   "name": "python3"
  },
  "language_info": {
   "codemirror_mode": {
    "name": "ipython",
    "version": 3
   },
   "file_extension": ".py",
   "mimetype": "text/x-python",
   "name": "python",
   "nbconvert_exporter": "python",
   "pygments_lexer": "ipython3",
   "version": "3.6.3"
  }
 },
 "nbformat": 4,
 "nbformat_minor": 1
}
